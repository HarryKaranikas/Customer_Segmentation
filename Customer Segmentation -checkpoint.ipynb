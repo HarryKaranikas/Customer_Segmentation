{
 "cells": [
  {
   "cell_type": "code",
   "execution_count": 1,
   "metadata": {},
   "outputs": [],
   "source": [
    "import pandas as pd\n",
    "import numpy as np\n",
    "\n",
    "from sklearn.preprocessing import StandardScaler\n",
    "from sklearn.cluster import KMeans\n",
    "\n",
    "import matplotlib\n",
    "import matplotlib.pyplot as plt\n",
    "import seaborn as sns\n",
    "import datetime as dt\n",
    "import matplotlib.dates as mdates\n",
    "\n",
    "\n",
    "%matplotlib inline"
   ]
  },
  {
   "cell_type": "markdown",
   "metadata": {},
   "source": [
    "# Importing ,Preparing, Cleaning the Data"
   ]
  },
  {
   "cell_type": "code",
   "execution_count": 2,
   "metadata": {},
   "outputs": [],
   "source": [
    "\n",
    "df = pd.read_csv(\"bq-results.csv\")"
   ]
  },
  {
   "cell_type": "code",
   "execution_count": 3,
   "metadata": {},
   "outputs": [
    {
     "data": {
      "text/html": [
       "<div>\n",
       "<style scoped>\n",
       "    .dataframe tbody tr th:only-of-type {\n",
       "        vertical-align: middle;\n",
       "    }\n",
       "\n",
       "    .dataframe tbody tr th {\n",
       "        vertical-align: top;\n",
       "    }\n",
       "\n",
       "    .dataframe thead th {\n",
       "        text-align: right;\n",
       "    }\n",
       "</style>\n",
       "<table border=\"1\" class=\"dataframe\">\n",
       "  <thead>\n",
       "    <tr style=\"text-align: right;\">\n",
       "      <th></th>\n",
       "      <th>hour</th>\n",
       "      <th>date</th>\n",
       "      <th>date_time</th>\n",
       "      <th>order_id</th>\n",
       "      <th>user_id</th>\n",
       "      <th>city</th>\n",
       "      <th>cuisine_parent</th>\n",
       "      <th>basket</th>\n",
       "      <th>day</th>\n",
       "    </tr>\n",
       "  </thead>\n",
       "  <tbody>\n",
       "    <tr>\n",
       "      <th>0</th>\n",
       "      <td>13:54:30</td>\n",
       "      <td>2021-01-01</td>\n",
       "      <td>2021-01-01 13:54:30 UTC</td>\n",
       "      <td>2803797250</td>\n",
       "      <td>190383190</td>\n",
       "      <td>Λευκάδα</td>\n",
       "      <td>Breakfast</td>\n",
       "      <td>2.0</td>\n",
       "      <td>6</td>\n",
       "    </tr>\n",
       "    <tr>\n",
       "      <th>1</th>\n",
       "      <td>21:26:14</td>\n",
       "      <td>2021-01-01</td>\n",
       "      <td>2021-01-01 21:26:14 UTC</td>\n",
       "      <td>2804926781</td>\n",
       "      <td>173995414</td>\n",
       "      <td>Γρεβενά</td>\n",
       "      <td>Italian</td>\n",
       "      <td>6.5</td>\n",
       "      <td>6</td>\n",
       "    </tr>\n",
       "    <tr>\n",
       "      <th>2</th>\n",
       "      <td>20:06:36</td>\n",
       "      <td>2021-01-01</td>\n",
       "      <td>2021-01-01 20:06:36 UTC</td>\n",
       "      <td>2804666307</td>\n",
       "      <td>91931920</td>\n",
       "      <td>Θήβα</td>\n",
       "      <td>Street food</td>\n",
       "      <td>14.4</td>\n",
       "      <td>6</td>\n",
       "    </tr>\n",
       "    <tr>\n",
       "      <th>3</th>\n",
       "      <td>10:57:36</td>\n",
       "      <td>2021-01-01</td>\n",
       "      <td>2021-01-01 10:57:36 UTC</td>\n",
       "      <td>2803358208</td>\n",
       "      <td>96267144</td>\n",
       "      <td>Λέρος</td>\n",
       "      <td>Breakfast</td>\n",
       "      <td>7.5</td>\n",
       "      <td>6</td>\n",
       "    </tr>\n",
       "    <tr>\n",
       "      <th>4</th>\n",
       "      <td>16:20:22</td>\n",
       "      <td>2021-01-01</td>\n",
       "      <td>2021-01-01 16:20:22 UTC</td>\n",
       "      <td>2804103063</td>\n",
       "      <td>89998448</td>\n",
       "      <td>Ιεράπετρα Κρήτη</td>\n",
       "      <td>Breakfast</td>\n",
       "      <td>4.0</td>\n",
       "      <td>6</td>\n",
       "    </tr>\n",
       "  </tbody>\n",
       "</table>\n",
       "</div>"
      ],
      "text/plain": [
       "       hour        date                date_time    order_id    user_id  \\\n",
       "0  13:54:30  2021-01-01  2021-01-01 13:54:30 UTC  2803797250  190383190   \n",
       "1  21:26:14  2021-01-01  2021-01-01 21:26:14 UTC  2804926781  173995414   \n",
       "2  20:06:36  2021-01-01  2021-01-01 20:06:36 UTC  2804666307   91931920   \n",
       "3  10:57:36  2021-01-01  2021-01-01 10:57:36 UTC  2803358208   96267144   \n",
       "4  16:20:22  2021-01-01  2021-01-01 16:20:22 UTC  2804103063   89998448   \n",
       "\n",
       "              city cuisine_parent  basket  day  \n",
       "0          Λευκάδα      Breakfast     2.0    6  \n",
       "1          Γρεβενά        Italian     6.5    6  \n",
       "2             Θήβα    Street food    14.4    6  \n",
       "3            Λέρος      Breakfast     7.5    6  \n",
       "4  Ιεράπετρα Κρήτη      Breakfast     4.0    6  "
      ]
     },
     "execution_count": 3,
     "metadata": {},
     "output_type": "execute_result"
    }
   ],
   "source": [
    "df.head()"
   ]
  },
  {
   "cell_type": "code",
   "execution_count": 4,
   "metadata": {},
   "outputs": [
    {
     "data": {
      "text/plain": [
       "hour              0\n",
       "date              0\n",
       "date_time         0\n",
       "order_id          0\n",
       "user_id           0\n",
       "city              0\n",
       "cuisine_parent    0\n",
       "basket            0\n",
       "day               0\n",
       "dtype: int64"
      ]
     },
     "execution_count": 4,
     "metadata": {},
     "output_type": "execute_result"
    }
   ],
   "source": [
    "df.isnull().sum()"
   ]
  },
  {
   "cell_type": "code",
   "execution_count": 5,
   "metadata": {},
   "outputs": [
    {
     "data": {
      "text/plain": [
       "hour               object\n",
       "date               object\n",
       "date_time          object\n",
       "order_id            int64\n",
       "user_id             int64\n",
       "city               object\n",
       "cuisine_parent     object\n",
       "basket            float64\n",
       "day                 int64\n",
       "dtype: object"
      ]
     },
     "execution_count": 5,
     "metadata": {},
     "output_type": "execute_result"
    }
   ],
   "source": [
    "df.dtypes"
   ]
  },
  {
   "cell_type": "markdown",
   "metadata": {},
   "source": [
    "order_id and  user_id is actually categorical data as well as City Cuisine_Parent and the Dates,so we want to change it.\n",
    "\n",
    "For compatibility reasons,we will make all the categorical values object and the numeric(Basket) float."
   ]
  },
  {
   "cell_type": "code",
   "execution_count": 6,
   "metadata": {},
   "outputs": [],
   "source": [
    "#\"Hours\",\"Day\",\"city\",\"cuisine_parent\",\"Week_Day\"\n",
    "\n",
    "df[[\"order_id\", \"user_id\",\"day\"]] = df[[\"order_id\", \"user_id\",\"day\"]].astype(\"object\")"
   ]
  },
  {
   "cell_type": "code",
   "execution_count": 7,
   "metadata": {},
   "outputs": [
    {
     "data": {
      "text/plain": [
       "hour               object\n",
       "date               object\n",
       "date_time          object\n",
       "order_id           object\n",
       "user_id            object\n",
       "city               object\n",
       "cuisine_parent     object\n",
       "basket            float64\n",
       "day                object\n",
       "dtype: object"
      ]
     },
     "execution_count": 7,
     "metadata": {},
     "output_type": "execute_result"
    }
   ],
   "source": [
    "df.dtypes"
   ]
  },
  {
   "cell_type": "code",
   "execution_count": null,
   "metadata": {},
   "outputs": [],
   "source": []
  },
  {
   "cell_type": "code",
   "execution_count": 8,
   "metadata": {},
   "outputs": [
    {
     "data": {
      "text/plain": [
       "(400000, 9)"
      ]
     },
     "execution_count": 8,
     "metadata": {},
     "output_type": "execute_result"
    }
   ],
   "source": [
    "df.shape"
   ]
  },
  {
   "cell_type": "code",
   "execution_count": 9,
   "metadata": {},
   "outputs": [
    {
     "data": {
      "text/html": [
       "<div>\n",
       "<style scoped>\n",
       "    .dataframe tbody tr th:only-of-type {\n",
       "        vertical-align: middle;\n",
       "    }\n",
       "\n",
       "    .dataframe tbody tr th {\n",
       "        vertical-align: top;\n",
       "    }\n",
       "\n",
       "    .dataframe thead th {\n",
       "        text-align: right;\n",
       "    }\n",
       "</style>\n",
       "<table border=\"1\" class=\"dataframe\">\n",
       "  <thead>\n",
       "    <tr style=\"text-align: right;\">\n",
       "      <th></th>\n",
       "      <th>basket</th>\n",
       "    </tr>\n",
       "  </thead>\n",
       "  <tbody>\n",
       "    <tr>\n",
       "      <th>count</th>\n",
       "      <td>400000.000000</td>\n",
       "    </tr>\n",
       "    <tr>\n",
       "      <th>mean</th>\n",
       "      <td>8.723202</td>\n",
       "    </tr>\n",
       "    <tr>\n",
       "      <th>std</th>\n",
       "      <td>6.535030</td>\n",
       "    </tr>\n",
       "    <tr>\n",
       "      <th>min</th>\n",
       "      <td>0.000000</td>\n",
       "    </tr>\n",
       "    <tr>\n",
       "      <th>25%</th>\n",
       "      <td>4.480000</td>\n",
       "    </tr>\n",
       "    <tr>\n",
       "      <th>50%</th>\n",
       "      <td>6.800000</td>\n",
       "    </tr>\n",
       "    <tr>\n",
       "      <th>75%</th>\n",
       "      <td>11.200000</td>\n",
       "    </tr>\n",
       "    <tr>\n",
       "      <th>max</th>\n",
       "      <td>151.850000</td>\n",
       "    </tr>\n",
       "  </tbody>\n",
       "</table>\n",
       "</div>"
      ],
      "text/plain": [
       "              basket\n",
       "count  400000.000000\n",
       "mean        8.723202\n",
       "std         6.535030\n",
       "min         0.000000\n",
       "25%         4.480000\n",
       "50%         6.800000\n",
       "75%        11.200000\n",
       "max       151.850000"
      ]
     },
     "execution_count": 9,
     "metadata": {},
     "output_type": "execute_result"
    }
   ],
   "source": [
    "df.describe()"
   ]
  },
  {
   "cell_type": "code",
   "execution_count": 10,
   "metadata": {},
   "outputs": [
    {
     "name": "stdout",
     "output_type": "stream",
     "text": [
      "number of duplicate rows:  (0, 9)\n"
     ]
    }
   ],
   "source": [
    "#Check to see if there is duplicates rows\n",
    "duplicate_rows_df = df[df.duplicated()]\n",
    "\n",
    "print(\"number of duplicate rows: \",duplicate_rows_df.shape)\n"
   ]
  },
  {
   "cell_type": "markdown",
   "metadata": {},
   "source": [
    "Now that we have finish checking our  data.\n",
    "\n",
    "The next step is"
   ]
  },
  {
   "cell_type": "markdown",
   "metadata": {},
   "source": [
    "\n",
    "\n",
    " # Analyze, identify patterns, and explore the data. (EDA)\n",
    "\n",
    "To do that effectively we are going to ask some questions."
   ]
  },
  {
   "cell_type": "markdown",
   "metadata": {
    "tags": [
     "Question"
    ]
   },
   "source": [
    "\n",
    "#### How many orders are made each day of the week?"
   ]
  },
  {
   "cell_type": "code",
   "execution_count": 11,
   "metadata": {},
   "outputs": [
    {
     "data": {
      "text/plain": [
       "<AxesSubplot:xlabel='day', ylabel='Count'>"
      ]
     },
     "execution_count": 11,
     "metadata": {},
     "output_type": "execute_result"
    },
    {
     "data": {
      "image/png": "[encoded data removed]",
      "text/plain": [
       "<Figure size 432x288 with 1 Axes>"
      ]
     },
     "metadata": {
      "needs_background": "light"
     },
     "output_type": "display_data"
    }
   ],
   "source": [
    "sns.histplot(x=\"day\", data=df)\n",
    "\n",
    "# 1 = Sunday, 2 = Monday, ..."
   ]
  },
  {
   "cell_type": "markdown",
   "metadata": {},
   "source": [
    "_The most orders are creating in the Weekend!!_\n",
    "\n",
    "_The maximum WeekDay is Friday!_"
   ]
  },
  {
   "cell_type": "markdown",
   "metadata": {},
   "source": [
    "#### Which hour of a Day most orders are made?"
   ]
  },
  {
   "cell_type": "code",
   "execution_count": 12,
   "metadata": {},
   "outputs": [],
   "source": [
    "#We need to convert hour to a different format\n",
    "df['h']=pd.to_datetime(df['hour'],format='%H:%M:%S')\n",
    "#We need to set an index for plotting\n",
    "df.set_index('h', drop=False, inplace=True)"
   ]
  },
  {
   "cell_type": "code",
   "execution_count": 13,
   "metadata": {},
   "outputs": [
    {
     "data": {
      "image/png": "[encoded data removed]",
      "text/plain": [
       "<Figure size 432x288 with 1 Axes>"
      ]
     },
     "metadata": {
      "needs_background": "light"
     },
     "output_type": "display_data"
    }
   ],
   "source": [
    "#We need to group by our data \n",
    "dfh = df['h'].groupby(pd.Grouper(freq='60Min')).count()\n",
    "ax = dfh.plot(kind='bar', color='b')\n",
    "ticklabels = dfh.index.strftime('%H')\n",
    "ax.xaxis.set_major_formatter(matplotlib.ticker.FixedFormatter(ticklabels))\n",
    "plt.show()"
   ]
  },
  {
   "cell_type": "markdown",
   "metadata": {},
   "source": [
    "_There is a pick in night hours!!_"
   ]
  },
  {
   "cell_type": "code",
   "execution_count": 14,
   "metadata": {},
   "outputs": [],
   "source": [
    "#We do not need the h and date_time column anymore\n",
    "\n",
    "df.reset_index(drop=True, inplace=True)\n",
    "df.drop(['h','date_time'], inplace=True, axis=1)"
   ]
  },
  {
   "cell_type": "markdown",
   "metadata": {},
   "source": [
    "#### Which Cuisine has the most orders?"
   ]
  },
  {
   "cell_type": "code",
   "execution_count": 15,
   "metadata": {},
   "outputs": [
    {
     "data": {
      "image/png": "[encoded data removed]",
      "text/plain": [
       "<Figure size 720x360 with 1 Axes>"
      ]
     },
     "metadata": {
      "needs_background": "light"
     },
     "output_type": "display_data"
    }
   ],
   "source": [
    "df.cuisine_parent.value_counts().plot(kind=\"bar\", figsize=(10,5))\n",
    "plt.title(\"Cuisine Parent\")\n",
    "plt.ylabel(\"Number of orders\");"
   ]
  },
  {
   "cell_type": "markdown",
   "metadata": {},
   "source": [
    "#### Which Cuisine has the most order value?"
   ]
  },
  {
   "cell_type": "code",
   "execution_count": 16,
   "metadata": {},
   "outputs": [],
   "source": [
    "cuisine_value = df.groupby(\"cuisine_parent\").basket.agg(['sum']).sort_values(by=['sum'],inplace = False, ascending=False)"
   ]
  },
  {
   "cell_type": "code",
   "execution_count": 17,
   "metadata": {},
   "outputs": [
    {
     "data": {
      "text/plain": [
       "<AxesSubplot:xlabel='cuisine_parent'>"
      ]
     },
     "execution_count": 17,
     "metadata": {},
     "output_type": "execute_result"
    },
    {
     "data": {
      "image/png": "[encoded data removed]",
      "text/plain": [
       "<Figure size 720x360 with 1 Axes>"
      ]
     },
     "metadata": {
      "needs_background": "light"
     },
     "output_type": "display_data"
    }
   ],
   "source": [
    "cuisine_value.plot(kind = \"bar\",figsize=(10,5))"
   ]
  },
  {
   "cell_type": "markdown",
   "metadata": {},
   "source": [
    "_We can see that the Breakfast,Meat,Italian,Street food cuisines are the most important._"
   ]
  },
  {
   "cell_type": "markdown",
   "metadata": {},
   "source": [
    "# CUSTOMERS ANALYSIS (Traditional approach)"
   ]
  },
  {
   "cell_type": "markdown",
   "metadata": {},
   "source": [
    "_We will create three features_\n",
    "## Order Value\n",
    "#### How much money they have spent?"
   ]
  },
  {
   "cell_type": "code",
   "execution_count": 18,
   "metadata": {},
   "outputs": [
    {
     "data": {
      "text/html": [
       "<div>\n",
       "<style scoped>\n",
       "    .dataframe tbody tr th:only-of-type {\n",
       "        vertical-align: middle;\n",
       "    }\n",
       "\n",
       "    .dataframe tbody tr th {\n",
       "        vertical-align: top;\n",
       "    }\n",
       "\n",
       "    .dataframe thead th {\n",
       "        text-align: right;\n",
       "    }\n",
       "</style>\n",
       "<table border=\"1\" class=\"dataframe\">\n",
       "  <thead>\n",
       "    <tr style=\"text-align: right;\">\n",
       "      <th></th>\n",
       "      <th>sum</th>\n",
       "    </tr>\n",
       "    <tr>\n",
       "      <th>user_id</th>\n",
       "      <th></th>\n",
       "    </tr>\n",
       "  </thead>\n",
       "  <tbody>\n",
       "    <tr>\n",
       "      <th>121060500</th>\n",
       "      <td>449.05</td>\n",
       "    </tr>\n",
       "    <tr>\n",
       "      <th>47300604</th>\n",
       "      <td>414.90</td>\n",
       "    </tr>\n",
       "    <tr>\n",
       "      <th>84112472</th>\n",
       "      <td>369.30</td>\n",
       "    </tr>\n",
       "    <tr>\n",
       "      <th>190110134</th>\n",
       "      <td>324.50</td>\n",
       "    </tr>\n",
       "    <tr>\n",
       "      <th>90204666</th>\n",
       "      <td>317.25</td>\n",
       "    </tr>\n",
       "    <tr>\n",
       "      <th>...</th>\n",
       "      <td>...</td>\n",
       "    </tr>\n",
       "    <tr>\n",
       "      <th>198043846</th>\n",
       "      <td>0.30</td>\n",
       "    </tr>\n",
       "    <tr>\n",
       "      <th>196487804</th>\n",
       "      <td>0.20</td>\n",
       "    </tr>\n",
       "    <tr>\n",
       "      <th>195402710</th>\n",
       "      <td>0.20</td>\n",
       "    </tr>\n",
       "    <tr>\n",
       "      <th>192059568</th>\n",
       "      <td>0.20</td>\n",
       "    </tr>\n",
       "    <tr>\n",
       "      <th>58072700</th>\n",
       "      <td>0.00</td>\n",
       "    </tr>\n",
       "  </tbody>\n",
       "</table>\n",
       "<p>162954 rows × 1 columns</p>\n",
       "</div>"
      ],
      "text/plain": [
       "              sum\n",
       "user_id          \n",
       "121060500  449.05\n",
       "47300604   414.90\n",
       "84112472   369.30\n",
       "190110134  324.50\n",
       "90204666   317.25\n",
       "...           ...\n",
       "198043846    0.30\n",
       "196487804    0.20\n",
       "195402710    0.20\n",
       "192059568    0.20\n",
       "58072700     0.00\n",
       "\n",
       "[162954 rows x 1 columns]"
      ]
     },
     "execution_count": 18,
     "metadata": {},
     "output_type": "execute_result"
    }
   ],
   "source": [
    "order_value = df.groupby(\"user_id\").basket.agg(['sum'])\n",
    "order_value.sort_values(by=['sum'],inplace = False, ascending=False)"
   ]
  },
  {
   "cell_type": "markdown",
   "metadata": {},
   "source": [
    "### Frequency\n",
    "#### How many times they have created an order?"
   ]
  },
  {
   "cell_type": "code",
   "execution_count": 19,
   "metadata": {},
   "outputs": [
    {
     "data": {
      "text/html": [
       "<div>\n",
       "<style scoped>\n",
       "    .dataframe tbody tr th:only-of-type {\n",
       "        vertical-align: middle;\n",
       "    }\n",
       "\n",
       "    .dataframe tbody tr th {\n",
       "        vertical-align: top;\n",
       "    }\n",
       "\n",
       "    .dataframe thead th {\n",
       "        text-align: right;\n",
       "    }\n",
       "</style>\n",
       "<table border=\"1\" class=\"dataframe\">\n",
       "  <thead>\n",
       "    <tr style=\"text-align: right;\">\n",
       "      <th></th>\n",
       "      <th>count</th>\n",
       "    </tr>\n",
       "    <tr>\n",
       "      <th>user_id</th>\n",
       "      <th></th>\n",
       "    </tr>\n",
       "  </thead>\n",
       "  <tbody>\n",
       "    <tr>\n",
       "      <th>106414882</th>\n",
       "      <td>33</td>\n",
       "    </tr>\n",
       "    <tr>\n",
       "      <th>50885108</th>\n",
       "      <td>31</td>\n",
       "    </tr>\n",
       "    <tr>\n",
       "      <th>42623692</th>\n",
       "      <td>29</td>\n",
       "    </tr>\n",
       "    <tr>\n",
       "      <th>36239490</th>\n",
       "      <td>28</td>\n",
       "    </tr>\n",
       "    <tr>\n",
       "      <th>88123534</th>\n",
       "      <td>28</td>\n",
       "    </tr>\n",
       "    <tr>\n",
       "      <th>...</th>\n",
       "      <td>...</td>\n",
       "    </tr>\n",
       "    <tr>\n",
       "      <th>68539218</th>\n",
       "      <td>1</td>\n",
       "    </tr>\n",
       "    <tr>\n",
       "      <th>68533054</th>\n",
       "      <td>1</td>\n",
       "    </tr>\n",
       "    <tr>\n",
       "      <th>68532916</th>\n",
       "      <td>1</td>\n",
       "    </tr>\n",
       "    <tr>\n",
       "      <th>68524176</th>\n",
       "      <td>1</td>\n",
       "    </tr>\n",
       "    <tr>\n",
       "      <th>198285208</th>\n",
       "      <td>1</td>\n",
       "    </tr>\n",
       "  </tbody>\n",
       "</table>\n",
       "<p>162954 rows × 1 columns</p>\n",
       "</div>"
      ],
      "text/plain": [
       "           count\n",
       "user_id         \n",
       "106414882     33\n",
       "50885108      31\n",
       "42623692      29\n",
       "36239490      28\n",
       "88123534      28\n",
       "...          ...\n",
       "68539218       1\n",
       "68533054       1\n",
       "68532916       1\n",
       "68524176       1\n",
       "198285208      1\n",
       "\n",
       "[162954 rows x 1 columns]"
      ]
     },
     "execution_count": 19,
     "metadata": {},
     "output_type": "execute_result"
    }
   ],
   "source": [
    "frequency = df.groupby(\"user_id\").order_id.agg(['count'])\n",
    "frequency.sort_values(by=['count'],inplace = False, ascending=False)"
   ]
  },
  {
   "cell_type": "markdown",
   "metadata": {},
   "source": [
    "### Recency\n",
    "#### How many days have passed to create an order ??"
   ]
  },
  {
   "cell_type": "code",
   "execution_count": 20,
   "metadata": {},
   "outputs": [],
   "source": [
    "#We need first to change type in the date column\n",
    "df['date'] = pd.to_datetime(df['date'])"
   ]
  },
  {
   "cell_type": "code",
   "execution_count": 21,
   "metadata": {},
   "outputs": [],
   "source": [
    "\n",
    "most_recent_date = df['date'].max()"
   ]
  },
  {
   "cell_type": "code",
   "execution_count": 22,
   "metadata": {},
   "outputs": [],
   "source": [
    "last_order = df.groupby(\"user_id\").date.agg(['max'])"
   ]
  },
  {
   "cell_type": "code",
   "execution_count": 23,
   "metadata": {},
   "outputs": [],
   "source": [
    "#note we multiply by negative one for convenience ,but the bigger values are representing something negative\n",
    "last_order[\"recency\"]  = (last_order[\"max\"]- most_recent_date)/ np.timedelta64(1,\"D\")"
   ]
  },
  {
   "cell_type": "code",
   "execution_count": 24,
   "metadata": {},
   "outputs": [
    {
     "data": {
      "text/html": [
       "<div>\n",
       "<style scoped>\n",
       "    .dataframe tbody tr th:only-of-type {\n",
       "        vertical-align: middle;\n",
       "    }\n",
       "\n",
       "    .dataframe tbody tr th {\n",
       "        vertical-align: top;\n",
       "    }\n",
       "\n",
       "    .dataframe thead th {\n",
       "        text-align: right;\n",
       "    }\n",
       "</style>\n",
       "<table border=\"1\" class=\"dataframe\">\n",
       "  <thead>\n",
       "    <tr style=\"text-align: right;\">\n",
       "      <th></th>\n",
       "      <th>max</th>\n",
       "      <th>recency</th>\n",
       "    </tr>\n",
       "    <tr>\n",
       "      <th>user_id</th>\n",
       "      <th></th>\n",
       "      <th></th>\n",
       "    </tr>\n",
       "  </thead>\n",
       "  <tbody>\n",
       "    <tr>\n",
       "      <th>27462</th>\n",
       "      <td>2021-01-06</td>\n",
       "      <td>-25.0</td>\n",
       "    </tr>\n",
       "    <tr>\n",
       "      <th>39238</th>\n",
       "      <td>2021-01-27</td>\n",
       "      <td>-4.0</td>\n",
       "    </tr>\n",
       "    <tr>\n",
       "      <th>41354</th>\n",
       "      <td>2021-01-28</td>\n",
       "      <td>-3.0</td>\n",
       "    </tr>\n",
       "    <tr>\n",
       "      <th>44068</th>\n",
       "      <td>2021-01-17</td>\n",
       "      <td>-14.0</td>\n",
       "    </tr>\n",
       "    <tr>\n",
       "      <th>49220</th>\n",
       "      <td>2021-01-04</td>\n",
       "      <td>-27.0</td>\n",
       "    </tr>\n",
       "    <tr>\n",
       "      <th>...</th>\n",
       "      <td>...</td>\n",
       "      <td>...</td>\n",
       "    </tr>\n",
       "    <tr>\n",
       "      <th>198280516</th>\n",
       "      <td>2021-01-31</td>\n",
       "      <td>0.0</td>\n",
       "    </tr>\n",
       "    <tr>\n",
       "      <th>198281114</th>\n",
       "      <td>2021-01-31</td>\n",
       "      <td>0.0</td>\n",
       "    </tr>\n",
       "    <tr>\n",
       "      <th>198283828</th>\n",
       "      <td>2021-01-31</td>\n",
       "      <td>0.0</td>\n",
       "    </tr>\n",
       "    <tr>\n",
       "      <th>198284840</th>\n",
       "      <td>2021-01-31</td>\n",
       "      <td>0.0</td>\n",
       "    </tr>\n",
       "    <tr>\n",
       "      <th>198285208</th>\n",
       "      <td>2021-01-31</td>\n",
       "      <td>0.0</td>\n",
       "    </tr>\n",
       "  </tbody>\n",
       "</table>\n",
       "<p>162954 rows × 2 columns</p>\n",
       "</div>"
      ],
      "text/plain": [
       "                 max  recency\n",
       "user_id                      \n",
       "27462     2021-01-06    -25.0\n",
       "39238     2021-01-27     -4.0\n",
       "41354     2021-01-28     -3.0\n",
       "44068     2021-01-17    -14.0\n",
       "49220     2021-01-04    -27.0\n",
       "...              ...      ...\n",
       "198280516 2021-01-31      0.0\n",
       "198281114 2021-01-31      0.0\n",
       "198283828 2021-01-31      0.0\n",
       "198284840 2021-01-31      0.0\n",
       "198285208 2021-01-31      0.0\n",
       "\n",
       "[162954 rows x 2 columns]"
      ]
     },
     "execution_count": 24,
     "metadata": {},
     "output_type": "execute_result"
    }
   ],
   "source": [
    "last_order"
   ]
  },
  {
   "cell_type": "markdown",
   "metadata": {},
   "source": [
    "### Putting All Together"
   ]
  },
  {
   "cell_type": "code",
   "execution_count": 25,
   "metadata": {},
   "outputs": [],
   "source": [
    "customer = pd.concat([order_value,frequency,last_order], axis=1)"
   ]
  },
  {
   "cell_type": "code",
   "execution_count": 26,
   "metadata": {},
   "outputs": [
    {
     "data": {
      "text/html": [
       "<div>\n",
       "<style scoped>\n",
       "    .dataframe tbody tr th:only-of-type {\n",
       "        vertical-align: middle;\n",
       "    }\n",
       "\n",
       "    .dataframe tbody tr th {\n",
       "        vertical-align: top;\n",
       "    }\n",
       "\n",
       "    .dataframe thead th {\n",
       "        text-align: right;\n",
       "    }\n",
       "</style>\n",
       "<table border=\"1\" class=\"dataframe\">\n",
       "  <thead>\n",
       "    <tr style=\"text-align: right;\">\n",
       "      <th></th>\n",
       "      <th>sum</th>\n",
       "      <th>count</th>\n",
       "      <th>recency</th>\n",
       "    </tr>\n",
       "    <tr>\n",
       "      <th>user_id</th>\n",
       "      <th></th>\n",
       "      <th></th>\n",
       "      <th></th>\n",
       "    </tr>\n",
       "  </thead>\n",
       "  <tbody>\n",
       "    <tr>\n",
       "      <th>106414882</th>\n",
       "      <td>202.3</td>\n",
       "      <td>33</td>\n",
       "      <td>0.0</td>\n",
       "    </tr>\n",
       "    <tr>\n",
       "      <th>50885108</th>\n",
       "      <td>164.8</td>\n",
       "      <td>31</td>\n",
       "      <td>-1.0</td>\n",
       "    </tr>\n",
       "    <tr>\n",
       "      <th>42623692</th>\n",
       "      <td>278.8</td>\n",
       "      <td>29</td>\n",
       "      <td>0.0</td>\n",
       "    </tr>\n",
       "    <tr>\n",
       "      <th>36239490</th>\n",
       "      <td>140.5</td>\n",
       "      <td>28</td>\n",
       "      <td>-2.0</td>\n",
       "    </tr>\n",
       "    <tr>\n",
       "      <th>88123534</th>\n",
       "      <td>118.4</td>\n",
       "      <td>28</td>\n",
       "      <td>-1.0</td>\n",
       "    </tr>\n",
       "    <tr>\n",
       "      <th>...</th>\n",
       "      <td>...</td>\n",
       "      <td>...</td>\n",
       "      <td>...</td>\n",
       "    </tr>\n",
       "    <tr>\n",
       "      <th>68539218</th>\n",
       "      <td>18.0</td>\n",
       "      <td>1</td>\n",
       "      <td>-24.0</td>\n",
       "    </tr>\n",
       "    <tr>\n",
       "      <th>68533054</th>\n",
       "      <td>21.8</td>\n",
       "      <td>1</td>\n",
       "      <td>-7.0</td>\n",
       "    </tr>\n",
       "    <tr>\n",
       "      <th>68532916</th>\n",
       "      <td>8.2</td>\n",
       "      <td>1</td>\n",
       "      <td>-29.0</td>\n",
       "    </tr>\n",
       "    <tr>\n",
       "      <th>68524176</th>\n",
       "      <td>15.7</td>\n",
       "      <td>1</td>\n",
       "      <td>-14.0</td>\n",
       "    </tr>\n",
       "    <tr>\n",
       "      <th>198285208</th>\n",
       "      <td>3.6</td>\n",
       "      <td>1</td>\n",
       "      <td>0.0</td>\n",
       "    </tr>\n",
       "  </tbody>\n",
       "</table>\n",
       "<p>162954 rows × 3 columns</p>\n",
       "</div>"
      ],
      "text/plain": [
       "             sum  count  recency\n",
       "user_id                         \n",
       "106414882  202.3     33      0.0\n",
       "50885108   164.8     31     -1.0\n",
       "42623692   278.8     29      0.0\n",
       "36239490   140.5     28     -2.0\n",
       "88123534   118.4     28     -1.0\n",
       "...          ...    ...      ...\n",
       "68539218    18.0      1    -24.0\n",
       "68533054    21.8      1     -7.0\n",
       "68532916     8.2      1    -29.0\n",
       "68524176    15.7      1    -14.0\n",
       "198285208    3.6      1      0.0\n",
       "\n",
       "[162954 rows x 3 columns]"
      ]
     },
     "execution_count": 26,
     "metadata": {},
     "output_type": "execute_result"
    }
   ],
   "source": [
    "customer = customer.drop([\"max\"],axis=1)\n",
    "customer.sort_values(by=['count'],inplace = False, ascending=False)"
   ]
  },
  {
   "cell_type": "code",
   "execution_count": 27,
   "metadata": {},
   "outputs": [],
   "source": [
    "customer.rename(columns={'sum': 'order_value', 'count': 'frequency'}, inplace=True)"
   ]
  },
  {
   "cell_type": "code",
   "execution_count": 28,
   "metadata": {},
   "outputs": [
    {
     "data": {
      "text/html": [
       "<div>\n",
       "<style scoped>\n",
       "    .dataframe tbody tr th:only-of-type {\n",
       "        vertical-align: middle;\n",
       "    }\n",
       "\n",
       "    .dataframe tbody tr th {\n",
       "        vertical-align: top;\n",
       "    }\n",
       "\n",
       "    .dataframe thead th {\n",
       "        text-align: right;\n",
       "    }\n",
       "</style>\n",
       "<table border=\"1\" class=\"dataframe\">\n",
       "  <thead>\n",
       "    <tr style=\"text-align: right;\">\n",
       "      <th></th>\n",
       "      <th>order_value</th>\n",
       "      <th>frequency</th>\n",
       "      <th>recency</th>\n",
       "    </tr>\n",
       "    <tr>\n",
       "      <th>user_id</th>\n",
       "      <th></th>\n",
       "      <th></th>\n",
       "      <th></th>\n",
       "    </tr>\n",
       "  </thead>\n",
       "  <tbody>\n",
       "    <tr>\n",
       "      <th>27462</th>\n",
       "      <td>10.6</td>\n",
       "      <td>1</td>\n",
       "      <td>-25.0</td>\n",
       "    </tr>\n",
       "    <tr>\n",
       "      <th>39238</th>\n",
       "      <td>35.0</td>\n",
       "      <td>2</td>\n",
       "      <td>-4.0</td>\n",
       "    </tr>\n",
       "    <tr>\n",
       "      <th>41354</th>\n",
       "      <td>29.0</td>\n",
       "      <td>4</td>\n",
       "      <td>-3.0</td>\n",
       "    </tr>\n",
       "    <tr>\n",
       "      <th>44068</th>\n",
       "      <td>19.5</td>\n",
       "      <td>1</td>\n",
       "      <td>-14.0</td>\n",
       "    </tr>\n",
       "    <tr>\n",
       "      <th>49220</th>\n",
       "      <td>5.3</td>\n",
       "      <td>1</td>\n",
       "      <td>-27.0</td>\n",
       "    </tr>\n",
       "    <tr>\n",
       "      <th>...</th>\n",
       "      <td>...</td>\n",
       "      <td>...</td>\n",
       "      <td>...</td>\n",
       "    </tr>\n",
       "    <tr>\n",
       "      <th>198280516</th>\n",
       "      <td>9.9</td>\n",
       "      <td>1</td>\n",
       "      <td>0.0</td>\n",
       "    </tr>\n",
       "    <tr>\n",
       "      <th>198281114</th>\n",
       "      <td>13.7</td>\n",
       "      <td>1</td>\n",
       "      <td>0.0</td>\n",
       "    </tr>\n",
       "    <tr>\n",
       "      <th>198283828</th>\n",
       "      <td>5.5</td>\n",
       "      <td>1</td>\n",
       "      <td>0.0</td>\n",
       "    </tr>\n",
       "    <tr>\n",
       "      <th>198284840</th>\n",
       "      <td>5.0</td>\n",
       "      <td>1</td>\n",
       "      <td>0.0</td>\n",
       "    </tr>\n",
       "    <tr>\n",
       "      <th>198285208</th>\n",
       "      <td>3.6</td>\n",
       "      <td>1</td>\n",
       "      <td>0.0</td>\n",
       "    </tr>\n",
       "  </tbody>\n",
       "</table>\n",
       "<p>162954 rows × 3 columns</p>\n",
       "</div>"
      ],
      "text/plain": [
       "           order_value  frequency  recency\n",
       "user_id                                   \n",
       "27462             10.6          1    -25.0\n",
       "39238             35.0          2     -4.0\n",
       "41354             29.0          4     -3.0\n",
       "44068             19.5          1    -14.0\n",
       "49220              5.3          1    -27.0\n",
       "...                ...        ...      ...\n",
       "198280516          9.9          1      0.0\n",
       "198281114         13.7          1      0.0\n",
       "198283828          5.5          1      0.0\n",
       "198284840          5.0          1      0.0\n",
       "198285208          3.6          1      0.0\n",
       "\n",
       "[162954 rows x 3 columns]"
      ]
     },
     "execution_count": 28,
     "metadata": {},
     "output_type": "execute_result"
    }
   ],
   "source": [
    "customer"
   ]
  },
  {
   "cell_type": "markdown",
   "metadata": {},
   "source": [
    "#### Examine the distributions and the summary statistics of  Order Value, Frequency, Recency"
   ]
  },
  {
   "cell_type": "markdown",
   "metadata": {},
   "source": [
    "##### _Frequency_"
   ]
  },
  {
   "cell_type": "code",
   "execution_count": 29,
   "metadata": {},
   "outputs": [
    {
     "name": "stderr",
     "output_type": "stream",
     "text": [
      "c:\\users\\rock\\appdata\\local\\programs\\python\\python39\\lib\\site-packages\\seaborn\\distributions.py:2557: FutureWarning: `distplot` is a deprecated function and will be removed in a future version. Please adapt your code to use either `displot` (a figure-level function with similar flexibility) or `histplot` (an axes-level function for histograms).\n",
      "  warnings.warn(msg, FutureWarning)\n"
     ]
    },
    {
     "data": {
      "image/png": "[encoded data removed]",
      "text/plain": [
       "<Figure size 432x288 with 1 Axes>"
      ]
     },
     "metadata": {
      "needs_background": "light"
     },
     "output_type": "display_data"
    }
   ],
   "source": [
    "f = customer[\"frequency\"]\n",
    "\n",
    "ax = sns.distplot(f)"
   ]
  },
  {
   "cell_type": "code",
   "execution_count": 30,
   "metadata": {},
   "outputs": [
    {
     "data": {
      "text/plain": [
       "count    162954.000000\n",
       "mean          2.454680\n",
       "std           2.306284\n",
       "min           1.000000\n",
       "25%           1.000000\n",
       "50%           2.000000\n",
       "75%           3.000000\n",
       "max          33.000000\n",
       "Name: frequency, dtype: float64"
      ]
     },
     "execution_count": 30,
     "metadata": {},
     "output_type": "execute_result"
    }
   ],
   "source": [
    "f.describe()"
   ]
  },
  {
   "cell_type": "markdown",
   "metadata": {},
   "source": [
    "##### Order Value"
   ]
  },
  {
   "cell_type": "code",
   "execution_count": 31,
   "metadata": {},
   "outputs": [
    {
     "name": "stderr",
     "output_type": "stream",
     "text": [
      "c:\\users\\rock\\appdata\\local\\programs\\python\\python39\\lib\\site-packages\\seaborn\\distributions.py:2557: FutureWarning: `distplot` is a deprecated function and will be removed in a future version. Please adapt your code to use either `displot` (a figure-level function with similar flexibility) or `histplot` (an axes-level function for histograms).\n",
      "  warnings.warn(msg, FutureWarning)\n"
     ]
    },
    {
     "data": {
      "image/png": "[encoded data removed]",
      "text/plain": [
       "<Figure size 432x288 with 1 Axes>"
      ]
     },
     "metadata": {
      "needs_background": "light"
     },
     "output_type": "display_data"
    }
   ],
   "source": [
    "ov = customer[\"order_value\"]\n",
    "\n",
    "ay = sns.distplot(ov)"
   ]
  },
  {
   "cell_type": "code",
   "execution_count": 32,
   "metadata": {},
   "outputs": [
    {
     "data": {
      "text/plain": [
       "count    162954.000000\n",
       "mean         21.412674\n",
       "std          20.115454\n",
       "min           0.000000\n",
       "25%           8.400000\n",
       "50%          15.200000\n",
       "75%          27.400000\n",
       "max         449.050000\n",
       "Name: order_value, dtype: float64"
      ]
     },
     "execution_count": 32,
     "metadata": {},
     "output_type": "execute_result"
    }
   ],
   "source": [
    "ov.describe()"
   ]
  },
  {
   "cell_type": "markdown",
   "metadata": {},
   "source": [
    "##### Recency"
   ]
  },
  {
   "cell_type": "code",
   "execution_count": 33,
   "metadata": {},
   "outputs": [
    {
     "name": "stderr",
     "output_type": "stream",
     "text": [
      "c:\\users\\rock\\appdata\\local\\programs\\python\\python39\\lib\\site-packages\\seaborn\\distributions.py:2557: FutureWarning: `distplot` is a deprecated function and will be removed in a future version. Please adapt your code to use either `displot` (a figure-level function with similar flexibility) or `histplot` (an axes-level function for histograms).\n",
      "  warnings.warn(msg, FutureWarning)\n"
     ]
    },
    {
     "data": {
      "image/png": "[encoded data removed]",
      "text/plain": [
       "<Figure size 432x288 with 1 Axes>"
      ]
     },
     "metadata": {
      "needs_background": "light"
     },
     "output_type": "display_data"
    }
   ],
   "source": [
    "r = customer[\"recency\"]\n",
    "az = sns.distplot(r)"
   ]
  },
  {
   "cell_type": "code",
   "execution_count": 34,
   "metadata": {},
   "outputs": [
    {
     "data": {
      "text/plain": [
       "count    162954.000000\n",
       "mean        -10.579532\n",
       "std           8.829353\n",
       "min         -30.000000\n",
       "25%         -17.000000\n",
       "50%          -8.000000\n",
       "75%          -3.000000\n",
       "max           0.000000\n",
       "Name: recency, dtype: float64"
      ]
     },
     "execution_count": 34,
     "metadata": {},
     "output_type": "execute_result"
    }
   ],
   "source": [
    "r.describe()"
   ]
  },
  {
   "cell_type": "code",
   "execution_count": null,
   "metadata": {},
   "outputs": [],
   "source": []
  },
  {
   "cell_type": "markdown",
   "metadata": {},
   "source": [
    "### Quantiles\n",
    "We are going to use quantiles to split our data into four segments"
   ]
  },
  {
   "cell_type": "markdown",
   "metadata": {},
   "source": [
    "_example of a Normal Distribution_"
   ]
  },
  {
   "attachments": {
    "Iqr_with_quantile.png": {
     "image/png": "[encoded data removed]"
    }
   },
   "cell_type": "markdown",
   "metadata": {},
   "source": [
    "![Iqr_with_quantile.png](attachment:Iqr_with_quantile.png)"
   ]
  },
  {
   "cell_type": "code",
   "execution_count": 35,
   "metadata": {},
   "outputs": [],
   "source": [
    "quantiles = customer.quantile(q=[0.2,0.4,0.6,0.8])\n",
    "quantiles = quantiles.to_dict()"
   ]
  },
  {
   "cell_type": "code",
   "execution_count": 36,
   "metadata": {},
   "outputs": [
    {
     "data": {
      "text/plain": [
       "{'order_value': {0.2: 7.1, 0.4: 12.2, 0.6: 19.0, 0.8: 31.5},\n",
       " 'frequency': {0.2: 1.0, 0.4: 1.0, 0.6: 2.0, 0.8: 3.0},\n",
       " 'recency': {0.2: -20.0, 0.4: -11.0, 0.6: -6.0, 0.8: -2.0}}"
      ]
     },
     "execution_count": 36,
     "metadata": {},
     "output_type": "execute_result"
    }
   ],
   "source": [
    "quantiles"
   ]
  },
  {
   "cell_type": "code",
   "execution_count": 37,
   "metadata": {},
   "outputs": [],
   "source": [
    "#Function to create the segments\n",
    "def Segmentation(x, c):\n",
    "    if x <= quantiles[c][.2]:\n",
    "        return 5\n",
    "    elif x <= quantiles[c][.4]:\n",
    "        return 4\n",
    "    elif x <= quantiles[c][.6]:\n",
    "        return 3\n",
    "    elif x <= quantiles[c][.8]:\n",
    "        return 2\n",
    "    else:\n",
    "        return 1    "
   ]
  },
  {
   "cell_type": "code",
   "execution_count": 38,
   "metadata": {},
   "outputs": [],
   "source": [
    "\n",
    "customer[\"Ov\"] = customer[\"order_value\"].apply(lambda x: Segmentation(x, 'order_value'))\n",
    "customer[\"F\"] = customer[\"frequency\"].apply(lambda x: Segmentation(x, 'frequency'))\n",
    "customer[\"R\"] = customer[\"recency\"].apply(lambda x: Segmentation(x, 'recency'))\n",
    "\n",
    "#create a linear combination beetween order value,frequency,recency\n",
    "w1,w2,w3 = 1,1,1\n",
    "customer['score'] = w1* customer[\"Ov\"] + w2* customer[\"F\"] +w3* customer[\"R\"]\n",
    "\n",
    "#remember lower the better\n"
   ]
  },
  {
   "cell_type": "code",
   "execution_count": 39,
   "metadata": {},
   "outputs": [],
   "source": [
    "#Creating a function for Loyalty Customers\n",
    "def loyalty_level(x):\n",
    "    if x <= 3:\n",
    "        return \"Platinum\"\n",
    "    elif x <= 6:\n",
    "        return \"Gold\"\n",
    "    elif x <= 9:\n",
    "        return \"Silver\"\n",
    "    elif x <= 12:\n",
    "        return \"Bronze\"\n",
    "    else:\n",
    "        return \"General\"   "
   ]
  },
  {
   "cell_type": "code",
   "execution_count": 40,
   "metadata": {},
   "outputs": [],
   "source": [
    "customer[\"Loyalty_Level\"] = customer[\"score\"].apply(lambda x: loyalty_level(x))"
   ]
  },
  {
   "cell_type": "code",
   "execution_count": 41,
   "metadata": {},
   "outputs": [
    {
     "data": {
      "text/html": [
       "<div>\n",
       "<style scoped>\n",
       "    .dataframe tbody tr th:only-of-type {\n",
       "        vertical-align: middle;\n",
       "    }\n",
       "\n",
       "    .dataframe tbody tr th {\n",
       "        vertical-align: top;\n",
       "    }\n",
       "\n",
       "    .dataframe thead th {\n",
       "        text-align: right;\n",
       "    }\n",
       "</style>\n",
       "<table border=\"1\" class=\"dataframe\">\n",
       "  <thead>\n",
       "    <tr style=\"text-align: right;\">\n",
       "      <th></th>\n",
       "      <th>user_id</th>\n",
       "      <th>order_value</th>\n",
       "      <th>frequency</th>\n",
       "      <th>recency</th>\n",
       "      <th>Ov</th>\n",
       "      <th>F</th>\n",
       "      <th>R</th>\n",
       "      <th>score</th>\n",
       "      <th>Loyalty_Level</th>\n",
       "    </tr>\n",
       "  </thead>\n",
       "  <tbody>\n",
       "    <tr>\n",
       "      <th>115910</th>\n",
       "      <td>106414882</td>\n",
       "      <td>202.3</td>\n",
       "      <td>33</td>\n",
       "      <td>0.0</td>\n",
       "      <td>1</td>\n",
       "      <td>1</td>\n",
       "      <td>1</td>\n",
       "      <td>3</td>\n",
       "      <td>Platinum</td>\n",
       "    </tr>\n",
       "    <tr>\n",
       "      <th>56428</th>\n",
       "      <td>50885108</td>\n",
       "      <td>164.8</td>\n",
       "      <td>31</td>\n",
       "      <td>-1.0</td>\n",
       "      <td>1</td>\n",
       "      <td>1</td>\n",
       "      <td>1</td>\n",
       "      <td>3</td>\n",
       "      <td>Platinum</td>\n",
       "    </tr>\n",
       "    <tr>\n",
       "      <th>48089</th>\n",
       "      <td>42623692</td>\n",
       "      <td>278.8</td>\n",
       "      <td>29</td>\n",
       "      <td>0.0</td>\n",
       "      <td>1</td>\n",
       "      <td>1</td>\n",
       "      <td>1</td>\n",
       "      <td>3</td>\n",
       "      <td>Platinum</td>\n",
       "    </tr>\n",
       "    <tr>\n",
       "      <th>40811</th>\n",
       "      <td>36239490</td>\n",
       "      <td>140.5</td>\n",
       "      <td>28</td>\n",
       "      <td>-2.0</td>\n",
       "      <td>1</td>\n",
       "      <td>1</td>\n",
       "      <td>2</td>\n",
       "      <td>4</td>\n",
       "      <td>Gold</td>\n",
       "    </tr>\n",
       "    <tr>\n",
       "      <th>98465</th>\n",
       "      <td>88123534</td>\n",
       "      <td>118.4</td>\n",
       "      <td>28</td>\n",
       "      <td>-1.0</td>\n",
       "      <td>1</td>\n",
       "      <td>1</td>\n",
       "      <td>1</td>\n",
       "      <td>3</td>\n",
       "      <td>Platinum</td>\n",
       "    </tr>\n",
       "    <tr>\n",
       "      <th>...</th>\n",
       "      <td>...</td>\n",
       "      <td>...</td>\n",
       "      <td>...</td>\n",
       "      <td>...</td>\n",
       "      <td>...</td>\n",
       "      <td>...</td>\n",
       "      <td>...</td>\n",
       "      <td>...</td>\n",
       "      <td>...</td>\n",
       "    </tr>\n",
       "    <tr>\n",
       "      <th>76836</th>\n",
       "      <td>68539218</td>\n",
       "      <td>18.0</td>\n",
       "      <td>1</td>\n",
       "      <td>-24.0</td>\n",
       "      <td>3</td>\n",
       "      <td>5</td>\n",
       "      <td>5</td>\n",
       "      <td>13</td>\n",
       "      <td>General</td>\n",
       "    </tr>\n",
       "    <tr>\n",
       "      <th>76831</th>\n",
       "      <td>68533054</td>\n",
       "      <td>21.8</td>\n",
       "      <td>1</td>\n",
       "      <td>-7.0</td>\n",
       "      <td>2</td>\n",
       "      <td>5</td>\n",
       "      <td>3</td>\n",
       "      <td>10</td>\n",
       "      <td>Bronze</td>\n",
       "    </tr>\n",
       "    <tr>\n",
       "      <th>76830</th>\n",
       "      <td>68532916</td>\n",
       "      <td>8.2</td>\n",
       "      <td>1</td>\n",
       "      <td>-29.0</td>\n",
       "      <td>4</td>\n",
       "      <td>5</td>\n",
       "      <td>5</td>\n",
       "      <td>14</td>\n",
       "      <td>General</td>\n",
       "    </tr>\n",
       "    <tr>\n",
       "      <th>76825</th>\n",
       "      <td>68524176</td>\n",
       "      <td>15.7</td>\n",
       "      <td>1</td>\n",
       "      <td>-14.0</td>\n",
       "      <td>3</td>\n",
       "      <td>5</td>\n",
       "      <td>4</td>\n",
       "      <td>12</td>\n",
       "      <td>Bronze</td>\n",
       "    </tr>\n",
       "    <tr>\n",
       "      <th>162953</th>\n",
       "      <td>198285208</td>\n",
       "      <td>3.6</td>\n",
       "      <td>1</td>\n",
       "      <td>0.0</td>\n",
       "      <td>5</td>\n",
       "      <td>5</td>\n",
       "      <td>1</td>\n",
       "      <td>11</td>\n",
       "      <td>Bronze</td>\n",
       "    </tr>\n",
       "  </tbody>\n",
       "</table>\n",
       "<p>162954 rows × 9 columns</p>\n",
       "</div>"
      ],
      "text/plain": [
       "          user_id  order_value  frequency  recency  Ov  F  R  score  \\\n",
       "115910  106414882        202.3         33      0.0   1  1  1      3   \n",
       "56428    50885108        164.8         31     -1.0   1  1  1      3   \n",
       "48089    42623692        278.8         29      0.0   1  1  1      3   \n",
       "40811    36239490        140.5         28     -2.0   1  1  2      4   \n",
       "98465    88123534        118.4         28     -1.0   1  1  1      3   \n",
       "...           ...          ...        ...      ...  .. .. ..    ...   \n",
       "76836    68539218         18.0          1    -24.0   3  5  5     13   \n",
       "76831    68533054         21.8          1     -7.0   2  5  3     10   \n",
       "76830    68532916          8.2          1    -29.0   4  5  5     14   \n",
       "76825    68524176         15.7          1    -14.0   3  5  4     12   \n",
       "162953  198285208          3.6          1      0.0   5  5  1     11   \n",
       "\n",
       "       Loyalty_Level  \n",
       "115910      Platinum  \n",
       "56428       Platinum  \n",
       "48089       Platinum  \n",
       "40811           Gold  \n",
       "98465       Platinum  \n",
       "...              ...  \n",
       "76836        General  \n",
       "76831         Bronze  \n",
       "76830        General  \n",
       "76825         Bronze  \n",
       "162953        Bronze  \n",
       "\n",
       "[162954 rows x 9 columns]"
      ]
     },
     "execution_count": 41,
     "metadata": {},
     "output_type": "execute_result"
    }
   ],
   "source": [
    "\n",
    "customer.reset_index().sort_values(by=['frequency'],inplace = False, ascending=False)"
   ]
  },
  {
   "cell_type": "code",
   "execution_count": 42,
   "metadata": {},
   "outputs": [],
   "source": [
    "palette=plt.get_cmap('RdYlGn').reversed()"
   ]
  },
  {
   "cell_type": "markdown",
   "metadata": {},
   "source": [
    "#### Let's Visualize the Results"
   ]
  },
  {
   "cell_type": "code",
   "execution_count": null,
   "metadata": {},
   "outputs": [],
   "source": []
  },
  {
   "cell_type": "code",
   "execution_count": 43,
   "metadata": {},
   "outputs": [
    {
     "data": {
      "image/png": "[encoded data removed]",
      "text/plain": [
       "<Figure size 432x288 with 1 Axes>"
      ]
     },
     "metadata": {
      "needs_background": "light"
     },
     "output_type": "display_data"
    }
   ],
   "source": [
    "sns.scatterplot(data=customer, x=\"recency\", y=\"frequency\", hue=\"Loyalty_Level\",style =\"Loyalty_Level\")\n",
    "\n",
    "\n",
    "plt.show()"
   ]
  },
  {
   "cell_type": "code",
   "execution_count": 44,
   "metadata": {},
   "outputs": [
    {
     "data": {
      "image/png": "[encoded data removed]",
      "text/plain": [
       "<Figure size 432x288 with 1 Axes>"
      ]
     },
     "metadata": {
      "needs_background": "light"
     },
     "output_type": "display_data"
    }
   ],
   "source": [
    "sns.scatterplot(data=customer, x=\"frequency\",y=\"order_value\" , hue=\"Loyalty_Level\",style =\"Loyalty_Level\")\n",
    "\n",
    "plt.show()"
   ]
  },
  {
   "cell_type": "code",
   "execution_count": 45,
   "metadata": {},
   "outputs": [
    {
     "data": {
      "image/png": "[encoded data removed]",
      "text/plain": [
       "<Figure size 432x288 with 1 Axes>"
      ]
     },
     "metadata": {
      "needs_background": "light"
     },
     "output_type": "display_data"
    }
   ],
   "source": [
    "sns.scatterplot(data=customer, x=\"recency\",y=\"order_value\" , hue=\"Loyalty_Level\",style =\"Loyalty_Level\")\n",
    "\n",
    "plt.show()"
   ]
  },
  {
   "cell_type": "markdown",
   "metadata": {},
   "source": [
    "## Machine Learning Approach"
   ]
  },
  {
   "cell_type": "markdown",
   "metadata": {},
   "source": [
    "### K-Means clustering is an unsupervised clustering algorithm that gathers and groups data into k number of clusters."
   ]
  },
  {
   "cell_type": "markdown",
   "metadata": {},
   "source": [
    "#### We need to normalize and scale the data in order to create these clusters.\n",
    "We are doing this because clustering uses distances as simlarity factor.\n"
   ]
  },
  {
   "cell_type": "markdown",
   "metadata": {},
   "source": [
    "_Before starting with transformation we are going to see the skewness of each feature_"
   ]
  },
  {
   "attachments": {
    "Skeweness.png": {
     "image/png": "[encoded data removed]"
    }
   },
   "cell_type": "markdown",
   "metadata": {},
   "source": [
    "![Skeweness.png](attachment:Skeweness.png)"
   ]
  },
  {
   "cell_type": "code",
   "execution_count": 46,
   "metadata": {},
   "outputs": [
    {
     "data": {
      "text/plain": [
       "order_value    2.821069\n",
       "frequency      2.917630\n",
       "recency       -0.594256\n",
       "Ov            -0.005103\n",
       "F             -0.339953\n",
       "R             -0.062691\n",
       "score         -0.231761\n",
       "dtype: float64"
      ]
     },
     "execution_count": 46,
     "metadata": {},
     "output_type": "execute_result"
    }
   ],
   "source": [
    "customer.skew()"
   ]
  },
  {
   "cell_type": "code",
   "execution_count": 47,
   "metadata": {},
   "outputs": [],
   "source": [
    "#We are doing this step because the log doesn't accept negative values\n",
    "customer[\"recency_negative\"] = customer[\"recency\"]*-1"
   ]
  },
  {
   "cell_type": "code",
   "execution_count": 48,
   "metadata": {},
   "outputs": [],
   "source": [
    "#Creating a new dataframe with the features we want to work\n",
    "df1 = customer[[\"recency_negative\",\"frequency\",\"order_value\"]]"
   ]
  },
  {
   "cell_type": "markdown",
   "metadata": {},
   "source": [
    "#### Log transformation & Square  Root transformation"
   ]
  },
  {
   "cell_type": "markdown",
   "metadata": {},
   "source": [
    "##### Frequency and Recency\n",
    "_Many of my data points are 0 because many users have used the app regularly. For a quick fix, I can add 1 to each data point. This works well since the log of 1 is 0. Furthermore, the same spread is retained since all points are increased by 1._"
   ]
  },
  {
   "cell_type": "code",
   "execution_count": 49,
   "metadata": {},
   "outputs": [
    {
     "name": "stderr",
     "output_type": "stream",
     "text": [
      "<ipython-input-49-6ac38379b109>:1: SettingWithCopyWarning: \n",
      "A value is trying to be set on a copy of a slice from a DataFrame.\n",
      "Try using .loc[row_indexer,col_indexer] = value instead\n",
      "\n",
      "See the caveats in the documentation: https://pandas.pydata.org/pandas-docs/stable/user_guide/indexing.html#returning-a-view-versus-a-copy\n",
      "  df1[\"rec_plus1\"] = df1[\"recency_negative\"]+1\n",
      "<ipython-input-49-6ac38379b109>:2: SettingWithCopyWarning: \n",
      "A value is trying to be set on a copy of a slice from a DataFrame.\n",
      "Try using .loc[row_indexer,col_indexer] = value instead\n",
      "\n",
      "See the caveats in the documentation: https://pandas.pydata.org/pandas-docs/stable/user_guide/indexing.html#returning-a-view-versus-a-copy\n",
      "  df1[\"fre_plus1\"] = df1[\"frequency\"]+1\n"
     ]
    }
   ],
   "source": [
    "df1[\"rec_plus1\"] = df1[\"recency_negative\"]+1\n",
    "df1[\"fre_plus1\"] = df1[\"frequency\"]+1\n"
   ]
  },
  {
   "cell_type": "code",
   "execution_count": 50,
   "metadata": {},
   "outputs": [],
   "source": [
    "#log transformation\n",
    "Log_data = df1[[\"rec_plus1\",\"fre_plus1\"]].apply(np.log,axis=1)"
   ]
  },
  {
   "cell_type": "code",
   "execution_count": 51,
   "metadata": {},
   "outputs": [
    {
     "data": {
      "text/html": [
       "<div>\n",
       "<style scoped>\n",
       "    .dataframe tbody tr th:only-of-type {\n",
       "        vertical-align: middle;\n",
       "    }\n",
       "\n",
       "    .dataframe tbody tr th {\n",
       "        vertical-align: top;\n",
       "    }\n",
       "\n",
       "    .dataframe thead th {\n",
       "        text-align: right;\n",
       "    }\n",
       "</style>\n",
       "<table border=\"1\" class=\"dataframe\">\n",
       "  <thead>\n",
       "    <tr style=\"text-align: right;\">\n",
       "      <th></th>\n",
       "      <th>rec_plus1</th>\n",
       "      <th>fre_plus1</th>\n",
       "    </tr>\n",
       "  </thead>\n",
       "  <tbody>\n",
       "    <tr>\n",
       "      <th>count</th>\n",
       "      <td>162954.000000</td>\n",
       "      <td>162954.000000</td>\n",
       "    </tr>\n",
       "    <tr>\n",
       "      <th>mean</th>\n",
       "      <td>2.043652</td>\n",
       "      <td>1.098296</td>\n",
       "    </tr>\n",
       "    <tr>\n",
       "      <th>std</th>\n",
       "      <td>1.014976</td>\n",
       "      <td>0.486480</td>\n",
       "    </tr>\n",
       "    <tr>\n",
       "      <th>min</th>\n",
       "      <td>0.000000</td>\n",
       "      <td>0.693147</td>\n",
       "    </tr>\n",
       "    <tr>\n",
       "      <th>25%</th>\n",
       "      <td>1.386294</td>\n",
       "      <td>0.693147</td>\n",
       "    </tr>\n",
       "    <tr>\n",
       "      <th>50%</th>\n",
       "      <td>2.197225</td>\n",
       "      <td>1.098612</td>\n",
       "    </tr>\n",
       "    <tr>\n",
       "      <th>75%</th>\n",
       "      <td>2.890372</td>\n",
       "      <td>1.386294</td>\n",
       "    </tr>\n",
       "    <tr>\n",
       "      <th>max</th>\n",
       "      <td>3.433987</td>\n",
       "      <td>3.526361</td>\n",
       "    </tr>\n",
       "  </tbody>\n",
       "</table>\n",
       "</div>"
      ],
      "text/plain": [
       "           rec_plus1      fre_plus1\n",
       "count  162954.000000  162954.000000\n",
       "mean        2.043652       1.098296\n",
       "std         1.014976       0.486480\n",
       "min         0.000000       0.693147\n",
       "25%         1.386294       0.693147\n",
       "50%         2.197225       1.098612\n",
       "75%         2.890372       1.386294\n",
       "max         3.433987       3.526361"
      ]
     },
     "execution_count": 51,
     "metadata": {},
     "output_type": "execute_result"
    }
   ],
   "source": [
    "Log_data.describe()"
   ]
  },
  {
   "cell_type": "code",
   "execution_count": 52,
   "metadata": {},
   "outputs": [
    {
     "data": {
      "text/plain": [
       "rec_plus1   -0.565666\n",
       "fre_plus1    1.146679\n",
       "dtype: float64"
      ]
     },
     "execution_count": 52,
     "metadata": {},
     "output_type": "execute_result"
    }
   ],
   "source": [
    "Log_data.skew()"
   ]
  },
  {
   "cell_type": "code",
   "execution_count": 53,
   "metadata": {},
   "outputs": [],
   "source": [
    "#Square Root transformation\n",
    "sqrt_data = df1[[\"recency_negative\",\"frequency\",\"order_value\"]].apply(np.sqrt,axis=1)"
   ]
  },
  {
   "cell_type": "code",
   "execution_count": 54,
   "metadata": {},
   "outputs": [
    {
     "data": {
      "text/html": [
       "<div>\n",
       "<style scoped>\n",
       "    .dataframe tbody tr th:only-of-type {\n",
       "        vertical-align: middle;\n",
       "    }\n",
       "\n",
       "    .dataframe tbody tr th {\n",
       "        vertical-align: top;\n",
       "    }\n",
       "\n",
       "    .dataframe thead th {\n",
       "        text-align: right;\n",
       "    }\n",
       "</style>\n",
       "<table border=\"1\" class=\"dataframe\">\n",
       "  <thead>\n",
       "    <tr style=\"text-align: right;\">\n",
       "      <th></th>\n",
       "      <th>recency_negative</th>\n",
       "      <th>frequency</th>\n",
       "      <th>order_value</th>\n",
       "    </tr>\n",
       "  </thead>\n",
       "  <tbody>\n",
       "    <tr>\n",
       "      <th>count</th>\n",
       "      <td>162954.000000</td>\n",
       "      <td>162954.000000</td>\n",
       "      <td>162954.000000</td>\n",
       "    </tr>\n",
       "    <tr>\n",
       "      <th>mean</th>\n",
       "      <td>2.855548</td>\n",
       "      <td>1.453447</td>\n",
       "      <td>4.248329</td>\n",
       "    </tr>\n",
       "    <tr>\n",
       "      <th>std</th>\n",
       "      <td>1.557368</td>\n",
       "      <td>0.584957</td>\n",
       "      <td>1.834229</td>\n",
       "    </tr>\n",
       "    <tr>\n",
       "      <th>min</th>\n",
       "      <td>-0.000000</td>\n",
       "      <td>1.000000</td>\n",
       "      <td>0.000000</td>\n",
       "    </tr>\n",
       "    <tr>\n",
       "      <th>25%</th>\n",
       "      <td>1.732051</td>\n",
       "      <td>1.000000</td>\n",
       "      <td>2.898275</td>\n",
       "    </tr>\n",
       "    <tr>\n",
       "      <th>50%</th>\n",
       "      <td>2.828427</td>\n",
       "      <td>1.414214</td>\n",
       "      <td>3.898718</td>\n",
       "    </tr>\n",
       "    <tr>\n",
       "      <th>75%</th>\n",
       "      <td>4.123106</td>\n",
       "      <td>1.732051</td>\n",
       "      <td>5.234501</td>\n",
       "    </tr>\n",
       "    <tr>\n",
       "      <th>max</th>\n",
       "      <td>5.477226</td>\n",
       "      <td>5.744563</td>\n",
       "      <td>21.190800</td>\n",
       "    </tr>\n",
       "  </tbody>\n",
       "</table>\n",
       "</div>"
      ],
      "text/plain": [
       "       recency_negative      frequency    order_value\n",
       "count     162954.000000  162954.000000  162954.000000\n",
       "mean           2.855548       1.453447       4.248329\n",
       "std            1.557368       0.584957       1.834229\n",
       "min           -0.000000       1.000000       0.000000\n",
       "25%            1.732051       1.000000       2.898275\n",
       "50%            2.828427       1.414214       3.898718\n",
       "75%            4.123106       1.732051       5.234501\n",
       "max            5.477226       5.744563      21.190800"
      ]
     },
     "execution_count": 54,
     "metadata": {},
     "output_type": "execute_result"
    }
   ],
   "source": [
    "sqrt_data.describe()"
   ]
  },
  {
   "cell_type": "code",
   "execution_count": 55,
   "metadata": {},
   "outputs": [
    {
     "data": {
      "text/plain": [
       "recency_negative   -0.170729\n",
       "frequency           1.594156\n",
       "order_value         1.125425\n",
       "dtype: float64"
      ]
     },
     "execution_count": 55,
     "metadata": {},
     "output_type": "execute_result"
    }
   ],
   "source": [
    "sqrt_data.skew()"
   ]
  },
  {
   "cell_type": "markdown",
   "metadata": {},
   "source": [
    "### Comparing the two Normalization Techniques\n",
    "_For recency feature we are going to use the square root method_\n",
    "\n",
    "_For frequency feature we are going to use the log method_\n",
    "\n",
    "_For order value feature we are going to use the square root method_"
   ]
  },
  {
   "cell_type": "code",
   "execution_count": 56,
   "metadata": {},
   "outputs": [],
   "source": [
    "#Creating a new dataframe for the normalize feauters\n",
    "f_n= Log_data[[\"fre_plus1\"]]\n",
    "\n",
    "r_o_n = sqrt_data[[\"recency_negative\",\"order_value\"]]\n",
    "\n",
    "#Concat the two new normalize dataframes\n",
    "Norm_Data = pd.concat([f_n,r_o_n],axis=1)"
   ]
  },
  {
   "cell_type": "code",
   "execution_count": 57,
   "metadata": {},
   "outputs": [],
   "source": [
    "Norm_Data.rename(columns={'fre_plus1': 'f', 'recency_negative': 'r','order_value': 'ov'}, inplace=True)"
   ]
  },
  {
   "cell_type": "markdown",
   "metadata": {},
   "source": [
    "#### Scaling"
   ]
  },
  {
   "cell_type": "code",
   "execution_count": 58,
   "metadata": {},
   "outputs": [],
   "source": [
    "#from sklearn.preprocessing import StandardScaler\n",
    "\n",
    "scaler = StandardScaler() \n",
    "data_scaled = scaler.fit_transform(Norm_Data)\n",
    "\n",
    "#Transform it back to dataframe\n",
    "scal_nomr_data = pd.DataFrame(data_scaled,index=customer.index,columns=Norm_Data.columns)"
   ]
  },
  {
   "cell_type": "code",
   "execution_count": 59,
   "metadata": {},
   "outputs": [
    {
     "data": {
      "text/html": [
       "<div>\n",
       "<style scoped>\n",
       "    .dataframe tbody tr th:only-of-type {\n",
       "        vertical-align: middle;\n",
       "    }\n",
       "\n",
       "    .dataframe tbody tr th {\n",
       "        vertical-align: top;\n",
       "    }\n",
       "\n",
       "    .dataframe thead th {\n",
       "        text-align: right;\n",
       "    }\n",
       "</style>\n",
       "<table border=\"1\" class=\"dataframe\">\n",
       "  <thead>\n",
       "    <tr style=\"text-align: right;\">\n",
       "      <th></th>\n",
       "      <th>f</th>\n",
       "      <th>r</th>\n",
       "      <th>ov</th>\n",
       "    </tr>\n",
       "    <tr>\n",
       "      <th>user_id</th>\n",
       "      <th></th>\n",
       "      <th></th>\n",
       "      <th></th>\n",
       "    </tr>\n",
       "  </thead>\n",
       "  <tbody>\n",
       "    <tr>\n",
       "      <th>58072700</th>\n",
       "      <td>-0.832820</td>\n",
       "      <td>1.376977</td>\n",
       "      <td>-2.316146</td>\n",
       "    </tr>\n",
       "    <tr>\n",
       "      <th>196487804</th>\n",
       "      <td>-0.832820</td>\n",
       "      <td>0.568981</td>\n",
       "      <td>-2.072330</td>\n",
       "    </tr>\n",
       "    <tr>\n",
       "      <th>195402710</th>\n",
       "      <td>-0.832820</td>\n",
       "      <td>0.481586</td>\n",
       "      <td>-2.072330</td>\n",
       "    </tr>\n",
       "    <tr>\n",
       "      <th>192059568</th>\n",
       "      <td>-0.832820</td>\n",
       "      <td>1.376977</td>\n",
       "      <td>-2.072330</td>\n",
       "    </tr>\n",
       "    <tr>\n",
       "      <th>114916648</th>\n",
       "      <td>-0.832820</td>\n",
       "      <td>0.890668</td>\n",
       "      <td>-2.017533</td>\n",
       "    </tr>\n",
       "    <tr>\n",
       "      <th>...</th>\n",
       "      <td>...</td>\n",
       "      <td>...</td>\n",
       "      <td>...</td>\n",
       "    </tr>\n",
       "    <tr>\n",
       "      <th>90204666</th>\n",
       "      <td>4.096265</td>\n",
       "      <td>-0.925497</td>\n",
       "      <td>7.394511</td>\n",
       "    </tr>\n",
       "    <tr>\n",
       "      <th>190110134</th>\n",
       "      <td>3.308991</td>\n",
       "      <td>-1.833579</td>\n",
       "      <td>7.504841</td>\n",
       "    </tr>\n",
       "    <tr>\n",
       "      <th>84112472</th>\n",
       "      <td>3.794908</td>\n",
       "      <td>-0.925497</td>\n",
       "      <td>8.160866</td>\n",
       "    </tr>\n",
       "    <tr>\n",
       "      <th>47300604</th>\n",
       "      <td>4.591995</td>\n",
       "      <td>-1.833579</td>\n",
       "      <td>8.788878</td>\n",
       "    </tr>\n",
       "    <tr>\n",
       "      <th>121060500</th>\n",
       "      <td>1.050696</td>\n",
       "      <td>-1.833579</td>\n",
       "      <td>9.236864</td>\n",
       "    </tr>\n",
       "  </tbody>\n",
       "</table>\n",
       "<p>162954 rows × 3 columns</p>\n",
       "</div>"
      ],
      "text/plain": [
       "                  f         r        ov\n",
       "user_id                                \n",
       "58072700  -0.832820  1.376977 -2.316146\n",
       "196487804 -0.832820  0.568981 -2.072330\n",
       "195402710 -0.832820  0.481586 -2.072330\n",
       "192059568 -0.832820  1.376977 -2.072330\n",
       "114916648 -0.832820  0.890668 -2.017533\n",
       "...             ...       ...       ...\n",
       "90204666   4.096265 -0.925497  7.394511\n",
       "190110134  3.308991 -1.833579  7.504841\n",
       "84112472   3.794908 -0.925497  8.160866\n",
       "47300604   4.591995 -1.833579  8.788878\n",
       "121060500  1.050696 -1.833579  9.236864\n",
       "\n",
       "[162954 rows x 3 columns]"
      ]
     },
     "execution_count": 59,
     "metadata": {},
     "output_type": "execute_result"
    }
   ],
   "source": [
    "scal_nomr_data.sort_values(by=['ov'],inplace = False, ascending=True)"
   ]
  },
  {
   "cell_type": "markdown",
   "metadata": {},
   "source": [
    "#### Optimal number of Clusters\n",
    "_Using  elbow method is a heuristic used in determining the number of clusters in a data set. The method consists of plotting the explained variation as a function of the number of clusters, and picking the elbow of the curve as the number of clusters to use._"
   ]
  },
  {
   "cell_type": "code",
   "execution_count": 60,
   "metadata": {},
   "outputs": [],
   "source": [
    "#from sklearn.cluster import KMeans\n",
    "sum_sq= {}\n",
    "for k in range(1,15):\n",
    "    km = KMeans(n_clusters=k, init = \"k-means++\",max_iter=1000)\n",
    "    km = km.fit(scal_nomr_data)\n",
    "    sum_sq[k] = km.inertia_\n",
    "    "
   ]
  },
  {
   "cell_type": "code",
   "execution_count": 61,
   "metadata": {},
   "outputs": [
    {
     "data": {
      "image/png": "[encoded data removed]",
      "text/plain": [
       "<Figure size 432x288 with 1 Axes>"
      ]
     },
     "metadata": {
      "needs_background": "light"
     },
     "output_type": "display_data"
    }
   ],
   "source": [
    "sns.pointplot(x = list(sum_sq.keys()),y = list(sum_sq.values()))\n",
    "plt.xlabel(\"Number of Clusters(k)\")\n",
    "plt.ylabel(\"Sum of Square Distances\")\n",
    "plt.title(\"Elbow Method\")\n",
    "plt.show()"
   ]
  },
  {
   "cell_type": "code",
   "execution_count": 62,
   "metadata": {},
   "outputs": [],
   "source": [
    "# For K = 3\n",
    "KMean_clust = KMeans(n_clusters=3,init =\"k-means++\",max_iter=1000)\n",
    "\n",
    "KMean_clust.fit(scal_nomr_data)\n",
    "customer[\"cluster\"] = KMean_clust.labels_"
   ]
  },
  {
   "cell_type": "code",
   "execution_count": 63,
   "metadata": {},
   "outputs": [
    {
     "data": {
      "text/html": [
       "<div>\n",
       "<style scoped>\n",
       "    .dataframe tbody tr th:only-of-type {\n",
       "        vertical-align: middle;\n",
       "    }\n",
       "\n",
       "    .dataframe tbody tr th {\n",
       "        vertical-align: top;\n",
       "    }\n",
       "\n",
       "    .dataframe thead th {\n",
       "        text-align: right;\n",
       "    }\n",
       "</style>\n",
       "<table border=\"1\" class=\"dataframe\">\n",
       "  <thead>\n",
       "    <tr style=\"text-align: right;\">\n",
       "      <th></th>\n",
       "      <th>order_value</th>\n",
       "      <th>frequency</th>\n",
       "      <th>recency</th>\n",
       "      <th>Ov</th>\n",
       "      <th>F</th>\n",
       "      <th>R</th>\n",
       "      <th>score</th>\n",
       "      <th>Loyalty_Level</th>\n",
       "      <th>recency_negative</th>\n",
       "      <th>cluster</th>\n",
       "    </tr>\n",
       "    <tr>\n",
       "      <th>user_id</th>\n",
       "      <th></th>\n",
       "      <th></th>\n",
       "      <th></th>\n",
       "      <th></th>\n",
       "      <th></th>\n",
       "      <th></th>\n",
       "      <th></th>\n",
       "      <th></th>\n",
       "      <th></th>\n",
       "      <th></th>\n",
       "    </tr>\n",
       "  </thead>\n",
       "  <tbody>\n",
       "    <tr>\n",
       "      <th>27462</th>\n",
       "      <td>10.60</td>\n",
       "      <td>1</td>\n",
       "      <td>-25.0</td>\n",
       "      <td>4</td>\n",
       "      <td>5</td>\n",
       "      <td>5</td>\n",
       "      <td>14</td>\n",
       "      <td>General</td>\n",
       "      <td>25.0</td>\n",
       "      <td>0</td>\n",
       "    </tr>\n",
       "    <tr>\n",
       "      <th>80972420</th>\n",
       "      <td>10.80</td>\n",
       "      <td>1</td>\n",
       "      <td>-16.0</td>\n",
       "      <td>4</td>\n",
       "      <td>5</td>\n",
       "      <td>4</td>\n",
       "      <td>13</td>\n",
       "      <td>General</td>\n",
       "      <td>16.0</td>\n",
       "      <td>0</td>\n",
       "    </tr>\n",
       "    <tr>\n",
       "      <th>80962668</th>\n",
       "      <td>15.00</td>\n",
       "      <td>1</td>\n",
       "      <td>-14.0</td>\n",
       "      <td>3</td>\n",
       "      <td>5</td>\n",
       "      <td>4</td>\n",
       "      <td>12</td>\n",
       "      <td>Bronze</td>\n",
       "      <td>14.0</td>\n",
       "      <td>0</td>\n",
       "    </tr>\n",
       "    <tr>\n",
       "      <th>80959494</th>\n",
       "      <td>15.50</td>\n",
       "      <td>1</td>\n",
       "      <td>-25.0</td>\n",
       "      <td>3</td>\n",
       "      <td>5</td>\n",
       "      <td>5</td>\n",
       "      <td>13</td>\n",
       "      <td>General</td>\n",
       "      <td>25.0</td>\n",
       "      <td>0</td>\n",
       "    </tr>\n",
       "    <tr>\n",
       "      <th>80959402</th>\n",
       "      <td>18.30</td>\n",
       "      <td>1</td>\n",
       "      <td>-19.0</td>\n",
       "      <td>3</td>\n",
       "      <td>5</td>\n",
       "      <td>4</td>\n",
       "      <td>12</td>\n",
       "      <td>Bronze</td>\n",
       "      <td>19.0</td>\n",
       "      <td>0</td>\n",
       "    </tr>\n",
       "    <tr>\n",
       "      <th>...</th>\n",
       "      <td>...</td>\n",
       "      <td>...</td>\n",
       "      <td>...</td>\n",
       "      <td>...</td>\n",
       "      <td>...</td>\n",
       "      <td>...</td>\n",
       "      <td>...</td>\n",
       "      <td>...</td>\n",
       "      <td>...</td>\n",
       "      <td>...</td>\n",
       "    </tr>\n",
       "    <tr>\n",
       "      <th>91101712</th>\n",
       "      <td>1.50</td>\n",
       "      <td>1</td>\n",
       "      <td>-6.0</td>\n",
       "      <td>5</td>\n",
       "      <td>5</td>\n",
       "      <td>3</td>\n",
       "      <td>13</td>\n",
       "      <td>General</td>\n",
       "      <td>6.0</td>\n",
       "      <td>2</td>\n",
       "    </tr>\n",
       "    <tr>\n",
       "      <th>25748684</th>\n",
       "      <td>5.20</td>\n",
       "      <td>2</td>\n",
       "      <td>-2.0</td>\n",
       "      <td>5</td>\n",
       "      <td>3</td>\n",
       "      <td>2</td>\n",
       "      <td>10</td>\n",
       "      <td>Bronze</td>\n",
       "      <td>2.0</td>\n",
       "      <td>2</td>\n",
       "    </tr>\n",
       "    <tr>\n",
       "      <th>91099136</th>\n",
       "      <td>25.47</td>\n",
       "      <td>1</td>\n",
       "      <td>-8.0</td>\n",
       "      <td>2</td>\n",
       "      <td>5</td>\n",
       "      <td>3</td>\n",
       "      <td>10</td>\n",
       "      <td>Bronze</td>\n",
       "      <td>8.0</td>\n",
       "      <td>2</td>\n",
       "    </tr>\n",
       "    <tr>\n",
       "      <th>25747626</th>\n",
       "      <td>10.00</td>\n",
       "      <td>1</td>\n",
       "      <td>-6.0</td>\n",
       "      <td>4</td>\n",
       "      <td>5</td>\n",
       "      <td>3</td>\n",
       "      <td>12</td>\n",
       "      <td>Bronze</td>\n",
       "      <td>6.0</td>\n",
       "      <td>2</td>\n",
       "    </tr>\n",
       "    <tr>\n",
       "      <th>198285208</th>\n",
       "      <td>3.60</td>\n",
       "      <td>1</td>\n",
       "      <td>0.0</td>\n",
       "      <td>5</td>\n",
       "      <td>5</td>\n",
       "      <td>1</td>\n",
       "      <td>11</td>\n",
       "      <td>Bronze</td>\n",
       "      <td>-0.0</td>\n",
       "      <td>2</td>\n",
       "    </tr>\n",
       "  </tbody>\n",
       "</table>\n",
       "<p>162954 rows × 10 columns</p>\n",
       "</div>"
      ],
      "text/plain": [
       "           order_value  frequency  recency  Ov  F  R  score Loyalty_Level  \\\n",
       "user_id                                                                     \n",
       "27462            10.60          1    -25.0   4  5  5     14       General   \n",
       "80972420         10.80          1    -16.0   4  5  4     13       General   \n",
       "80962668         15.00          1    -14.0   3  5  4     12        Bronze   \n",
       "80959494         15.50          1    -25.0   3  5  5     13       General   \n",
       "80959402         18.30          1    -19.0   3  5  4     12        Bronze   \n",
       "...                ...        ...      ...  .. .. ..    ...           ...   \n",
       "91101712          1.50          1     -6.0   5  5  3     13       General   \n",
       "25748684          5.20          2     -2.0   5  3  2     10        Bronze   \n",
       "91099136         25.47          1     -8.0   2  5  3     10        Bronze   \n",
       "25747626         10.00          1     -6.0   4  5  3     12        Bronze   \n",
       "198285208         3.60          1      0.0   5  5  1     11        Bronze   \n",
       "\n",
       "           recency_negative  cluster  \n",
       "user_id                               \n",
       "27462                  25.0        0  \n",
       "80972420               16.0        0  \n",
       "80962668               14.0        0  \n",
       "80959494               25.0        0  \n",
       "80959402               19.0        0  \n",
       "...                     ...      ...  \n",
       "91101712                6.0        2  \n",
       "25748684                2.0        2  \n",
       "91099136                8.0        2  \n",
       "25747626                6.0        2  \n",
       "198285208              -0.0        2  \n",
       "\n",
       "[162954 rows x 10 columns]"
      ]
     },
     "execution_count": 63,
     "metadata": {},
     "output_type": "execute_result"
    }
   ],
   "source": [
    "customer.sort_values(by=['cluster'],inplace = False, ascending=True)"
   ]
  },
  {
   "cell_type": "markdown",
   "metadata": {},
   "source": [
    "#### Visualize the results"
   ]
  },
  {
   "cell_type": "code",
   "execution_count": 64,
   "metadata": {},
   "outputs": [
    {
     "data": {
      "image/png": "[encoded data removed]",
      "text/plain": [
       "<Figure size 432x288 with 1 Axes>"
      ]
     },
     "metadata": {
      "needs_background": "light"
     },
     "output_type": "display_data"
    }
   ],
   "source": [
    "sns.scatterplot(data=customer, x=\"recency\", y=\"frequency\", hue=\"cluster\",style =\"cluster\",size=\"cluster\", palette=\"Set2\",markers=[\"o\",'d','s'])\n",
    "\n",
    "\n",
    "plt.show()"
   ]
  },
  {
   "cell_type": "code",
   "execution_count": 65,
   "metadata": {},
   "outputs": [
    {
     "data": {
      "image/png": "[encoded data removed]",
      "text/plain": [
       "<Figure size 432x288 with 1 Axes>"
      ]
     },
     "metadata": {
      "needs_background": "light"
     },
     "output_type": "display_data"
    }
   ],
   "source": [
    "sns.scatterplot(data=customer, x=\"frequency\",y=\"order_value\" , hue=\"cluster\",style =\"cluster\",size=\"cluster\", palette=\"Set2\",markers=[\"o\",'d','s'])\n",
    "\n",
    "plt.show()"
   ]
  },
  {
   "cell_type": "code",
   "execution_count": 66,
   "metadata": {},
   "outputs": [
    {
     "data": {
      "image/png": "[encoded data removed]",
      "text/plain": [
       "<Figure size 432x288 with 1 Axes>"
      ]
     },
     "metadata": {
      "needs_background": "light"
     },
     "output_type": "display_data"
    }
   ],
   "source": [
    "sns.scatterplot(data=customer, x=\"recency\",y=\"order_value\" , hue=\"cluster\",style =\"cluster\",size=\"cluster\",palette=\"Set2\",markers=[\"o\",'d','s'])\n",
    "\n",
    "plt.show()"
   ]
  },
  {
   "cell_type": "markdown",
   "metadata": {},
   "source": [
    "_It is clear that our algorithm thinks that they more loyal customers are belong to the 1 class_"
   ]
  },
  {
   "cell_type": "markdown",
   "metadata": {},
   "source": [
    "\n",
    "# Analyzing the Cuisine Parent\n",
    "_Now that we know which group is our Most Valuable Customer,we want to see if Breakfast is something they prefer._"
   ]
  },
  {
   "cell_type": "code",
   "execution_count": 67,
   "metadata": {},
   "outputs": [],
   "source": [
    "#transposing the  cuisine_parent column\n",
    "dummy =  pd.get_dummies(df['cuisine_parent'])\n",
    "df_cuisine = pd.concat([df,dummy],axis=1)\n",
    "#we don't need the cuisine_parent and basket column\n",
    "df_cuisine.drop(['cuisine_parent','basket'], inplace=True, axis=1)"
   ]
  },
  {
   "cell_type": "code",
   "execution_count": 68,
   "metadata": {},
   "outputs": [],
   "source": [
    "#Creating a pivot table\n",
    "pivot = pd.pivot_table(df_cuisine,index='user_id',aggfunc='sum')\n",
    "pivot = pivot.sort_values(by=['user_id'],inplace = False, ascending=False)"
   ]
  },
  {
   "cell_type": "code",
   "execution_count": 69,
   "metadata": {},
   "outputs": [],
   "source": [
    "customer_per_cuisine = pd.concat([customer,pivot] , axis=1)\n",
    "\n",
    "#We are going to keep the most populare cuisines Breakfast,Meat,Italian,Street food\n",
    "\n",
    "customer_per_cuisine = customer_per_cuisine.drop(columns=[\"recency_negative\",\"Creperie\",\"Ethnic\",\"Sweets\",\"Traditional\",\"Healthy / Other\"])"
   ]
  },
  {
   "cell_type": "code",
   "execution_count": 70,
   "metadata": {},
   "outputs": [],
   "source": [
    "customer_per_cuisine = customer_per_cuisine.sort_values(by=['Breakfast'],inplace = False, ascending=False)"
   ]
  },
  {
   "cell_type": "code",
   "execution_count": 71,
   "metadata": {},
   "outputs": [
    {
     "data": {
      "text/html": [
       "<div>\n",
       "<style scoped>\n",
       "    .dataframe tbody tr th:only-of-type {\n",
       "        vertical-align: middle;\n",
       "    }\n",
       "\n",
       "    .dataframe tbody tr th {\n",
       "        vertical-align: top;\n",
       "    }\n",
       "\n",
       "    .dataframe thead th {\n",
       "        text-align: right;\n",
       "    }\n",
       "</style>\n",
       "<table border=\"1\" class=\"dataframe\">\n",
       "  <thead>\n",
       "    <tr style=\"text-align: right;\">\n",
       "      <th></th>\n",
       "      <th>order_value</th>\n",
       "      <th>frequency</th>\n",
       "      <th>recency</th>\n",
       "      <th>Ov</th>\n",
       "      <th>F</th>\n",
       "      <th>R</th>\n",
       "      <th>score</th>\n",
       "      <th>Loyalty_Level</th>\n",
       "      <th>cluster</th>\n",
       "      <th>Breakfast</th>\n",
       "      <th>Italian</th>\n",
       "      <th>Meat</th>\n",
       "      <th>Street food</th>\n",
       "    </tr>\n",
       "    <tr>\n",
       "      <th>user_id</th>\n",
       "      <th></th>\n",
       "      <th></th>\n",
       "      <th></th>\n",
       "      <th></th>\n",
       "      <th></th>\n",
       "      <th></th>\n",
       "      <th></th>\n",
       "      <th></th>\n",
       "      <th></th>\n",
       "      <th></th>\n",
       "      <th></th>\n",
       "      <th></th>\n",
       "      <th></th>\n",
       "    </tr>\n",
       "  </thead>\n",
       "  <tbody>\n",
       "    <tr>\n",
       "      <th>72180854</th>\n",
       "      <td>122.90</td>\n",
       "      <td>28</td>\n",
       "      <td>0.0</td>\n",
       "      <td>1</td>\n",
       "      <td>1</td>\n",
       "      <td>1</td>\n",
       "      <td>3</td>\n",
       "      <td>Platinum</td>\n",
       "      <td>1</td>\n",
       "      <td>25</td>\n",
       "      <td>1</td>\n",
       "      <td>2</td>\n",
       "      <td>0</td>\n",
       "    </tr>\n",
       "    <tr>\n",
       "      <th>83780076</th>\n",
       "      <td>94.55</td>\n",
       "      <td>26</td>\n",
       "      <td>-1.0</td>\n",
       "      <td>1</td>\n",
       "      <td>1</td>\n",
       "      <td>1</td>\n",
       "      <td>3</td>\n",
       "      <td>Platinum</td>\n",
       "      <td>1</td>\n",
       "      <td>24</td>\n",
       "      <td>1</td>\n",
       "      <td>1</td>\n",
       "      <td>0</td>\n",
       "    </tr>\n",
       "    <tr>\n",
       "      <th>56439746</th>\n",
       "      <td>97.80</td>\n",
       "      <td>27</td>\n",
       "      <td>0.0</td>\n",
       "      <td>1</td>\n",
       "      <td>1</td>\n",
       "      <td>1</td>\n",
       "      <td>3</td>\n",
       "      <td>Platinum</td>\n",
       "      <td>1</td>\n",
       "      <td>23</td>\n",
       "      <td>0</td>\n",
       "      <td>3</td>\n",
       "      <td>0</td>\n",
       "    </tr>\n",
       "    <tr>\n",
       "      <th>110883138</th>\n",
       "      <td>255.50</td>\n",
       "      <td>25</td>\n",
       "      <td>-3.0</td>\n",
       "      <td>1</td>\n",
       "      <td>1</td>\n",
       "      <td>2</td>\n",
       "      <td>4</td>\n",
       "      <td>Gold</td>\n",
       "      <td>1</td>\n",
       "      <td>23</td>\n",
       "      <td>0</td>\n",
       "      <td>2</td>\n",
       "      <td>0</td>\n",
       "    </tr>\n",
       "    <tr>\n",
       "      <th>36239490</th>\n",
       "      <td>140.50</td>\n",
       "      <td>28</td>\n",
       "      <td>-2.0</td>\n",
       "      <td>1</td>\n",
       "      <td>1</td>\n",
       "      <td>2</td>\n",
       "      <td>4</td>\n",
       "      <td>Gold</td>\n",
       "      <td>1</td>\n",
       "      <td>23</td>\n",
       "      <td>1</td>\n",
       "      <td>4</td>\n",
       "      <td>0</td>\n",
       "    </tr>\n",
       "    <tr>\n",
       "      <th>...</th>\n",
       "      <td>...</td>\n",
       "      <td>...</td>\n",
       "      <td>...</td>\n",
       "      <td>...</td>\n",
       "      <td>...</td>\n",
       "      <td>...</td>\n",
       "      <td>...</td>\n",
       "      <td>...</td>\n",
       "      <td>...</td>\n",
       "      <td>...</td>\n",
       "      <td>...</td>\n",
       "      <td>...</td>\n",
       "      <td>...</td>\n",
       "    </tr>\n",
       "    <tr>\n",
       "      <th>63236936</th>\n",
       "      <td>19.40</td>\n",
       "      <td>1</td>\n",
       "      <td>-2.0</td>\n",
       "      <td>2</td>\n",
       "      <td>5</td>\n",
       "      <td>2</td>\n",
       "      <td>9</td>\n",
       "      <td>Silver</td>\n",
       "      <td>2</td>\n",
       "      <td>0</td>\n",
       "      <td>1</td>\n",
       "      <td>0</td>\n",
       "      <td>0</td>\n",
       "    </tr>\n",
       "    <tr>\n",
       "      <th>63228932</th>\n",
       "      <td>8.20</td>\n",
       "      <td>1</td>\n",
       "      <td>-25.0</td>\n",
       "      <td>4</td>\n",
       "      <td>5</td>\n",
       "      <td>5</td>\n",
       "      <td>14</td>\n",
       "      <td>General</td>\n",
       "      <td>0</td>\n",
       "      <td>0</td>\n",
       "      <td>0</td>\n",
       "      <td>1</td>\n",
       "      <td>0</td>\n",
       "    </tr>\n",
       "    <tr>\n",
       "      <th>63228380</th>\n",
       "      <td>11.20</td>\n",
       "      <td>2</td>\n",
       "      <td>-9.0</td>\n",
       "      <td>4</td>\n",
       "      <td>3</td>\n",
       "      <td>3</td>\n",
       "      <td>10</td>\n",
       "      <td>Bronze</td>\n",
       "      <td>2</td>\n",
       "      <td>0</td>\n",
       "      <td>0</td>\n",
       "      <td>2</td>\n",
       "      <td>0</td>\n",
       "    </tr>\n",
       "    <tr>\n",
       "      <th>63227368</th>\n",
       "      <td>26.50</td>\n",
       "      <td>2</td>\n",
       "      <td>0.0</td>\n",
       "      <td>2</td>\n",
       "      <td>3</td>\n",
       "      <td>1</td>\n",
       "      <td>6</td>\n",
       "      <td>Gold</td>\n",
       "      <td>2</td>\n",
       "      <td>0</td>\n",
       "      <td>0</td>\n",
       "      <td>1</td>\n",
       "      <td>1</td>\n",
       "    </tr>\n",
       "    <tr>\n",
       "      <th>198285208</th>\n",
       "      <td>3.60</td>\n",
       "      <td>1</td>\n",
       "      <td>0.0</td>\n",
       "      <td>5</td>\n",
       "      <td>5</td>\n",
       "      <td>1</td>\n",
       "      <td>11</td>\n",
       "      <td>Bronze</td>\n",
       "      <td>2</td>\n",
       "      <td>0</td>\n",
       "      <td>0</td>\n",
       "      <td>0</td>\n",
       "      <td>0</td>\n",
       "    </tr>\n",
       "  </tbody>\n",
       "</table>\n",
       "<p>162954 rows × 13 columns</p>\n",
       "</div>"
      ],
      "text/plain": [
       "           order_value  frequency  recency  Ov  F  R  score Loyalty_Level  \\\n",
       "user_id                                                                     \n",
       "72180854        122.90         28      0.0   1  1  1      3      Platinum   \n",
       "83780076         94.55         26     -1.0   1  1  1      3      Platinum   \n",
       "56439746         97.80         27      0.0   1  1  1      3      Platinum   \n",
       "110883138       255.50         25     -3.0   1  1  2      4          Gold   \n",
       "36239490        140.50         28     -2.0   1  1  2      4          Gold   \n",
       "...                ...        ...      ...  .. .. ..    ...           ...   \n",
       "63236936         19.40          1     -2.0   2  5  2      9        Silver   \n",
       "63228932          8.20          1    -25.0   4  5  5     14       General   \n",
       "63228380         11.20          2     -9.0   4  3  3     10        Bronze   \n",
       "63227368         26.50          2      0.0   2  3  1      6          Gold   \n",
       "198285208         3.60          1      0.0   5  5  1     11        Bronze   \n",
       "\n",
       "           cluster  Breakfast  Italian  Meat  Street food  \n",
       "user_id                                                    \n",
       "72180854         1         25        1     2            0  \n",
       "83780076         1         24        1     1            0  \n",
       "56439746         1         23        0     3            0  \n",
       "110883138        1         23        0     2            0  \n",
       "36239490         1         23        1     4            0  \n",
       "...            ...        ...      ...   ...          ...  \n",
       "63236936         2          0        1     0            0  \n",
       "63228932         0          0        0     1            0  \n",
       "63228380         2          0        0     2            0  \n",
       "63227368         2          0        0     1            1  \n",
       "198285208        2          0        0     0            0  \n",
       "\n",
       "[162954 rows x 13 columns]"
      ]
     },
     "execution_count": 71,
     "metadata": {},
     "output_type": "execute_result"
    }
   ],
   "source": [
    "customer_per_cuisine"
   ]
  },
  {
   "cell_type": "markdown",
   "metadata": {},
   "source": [
    "_As we can see our most frequency use customers are more likely to order Breakfast._\n",
    "\n",
    "_Let's dive deeper_"
   ]
  },
  {
   "cell_type": "markdown",
   "metadata": {},
   "source": [
    "#  Action Insights"
   ]
  },
  {
   "cell_type": "markdown",
   "metadata": {},
   "source": [
    "### In the first class (1) what is the percentage of the orders that include Breakfast"
   ]
  },
  {
   "cell_type": "markdown",
   "metadata": {},
   "source": [
    "#### ML K-Means clustering model"
   ]
  },
  {
   "cell_type": "code",
   "execution_count": 72,
   "metadata": {},
   "outputs": [],
   "source": [
    "first_class = customer_per_cuisine.loc[customer_per_cuisine.cluster ==1, :]"
   ]
  },
  {
   "cell_type": "code",
   "execution_count": 73,
   "metadata": {},
   "outputs": [
    {
     "data": {
      "text/plain": [
       "0.42"
      ]
     },
     "execution_count": 73,
     "metadata": {},
     "output_type": "execute_result"
    }
   ],
   "source": [
    "(first_class.Breakfast.sum()/first_class.frequency.sum()).round(2)"
   ]
  },
  {
   "cell_type": "markdown",
   "metadata": {},
   "source": [
    "Almost half of the orders that are be made from our most valuable customers are Breakfast,according to our machine learning model"
   ]
  },
  {
   "cell_type": "code",
   "execution_count": 74,
   "metadata": {},
   "outputs": [
    {
     "data": {
      "text/plain": [
       "0.26"
      ]
     },
     "execution_count": 74,
     "metadata": {},
     "output_type": "execute_result"
    }
   ],
   "source": [
    "#second\n",
    "(first_class.Meat.sum()/first_class.frequency.sum()).round(2)"
   ]
  },
  {
   "cell_type": "code",
   "execution_count": 75,
   "metadata": {},
   "outputs": [
    {
     "name": "stderr",
     "output_type": "stream",
     "text": [
      "<ipython-input-75-b66526829b93>:1: SettingWithCopyWarning: \n",
      "A value is trying to be set on a copy of a slice from a DataFrame.\n",
      "Try using .loc[row_indexer,col_indexer] = value instead\n",
      "\n",
      "See the caveats in the documentation: https://pandas.pydata.org/pandas-docs/stable/user_guide/indexing.html#returning-a-view-versus-a-copy\n",
      "  first_class[\"Prob_ordering_Breakfast\"] = first_class[\"Breakfast\"]/first_class[\"frequency\"]\n"
     ]
    }
   ],
   "source": [
    "first_class[\"Prob_ordering_Breakfast\"] = first_class[\"Breakfast\"]/first_class[\"frequency\"]"
   ]
  },
  {
   "cell_type": "code",
   "execution_count": 76,
   "metadata": {},
   "outputs": [
    {
     "data": {
      "text/plain": [
       "0.3577899645643586"
      ]
     },
     "execution_count": 76,
     "metadata": {},
     "output_type": "execute_result"
    }
   ],
   "source": [
    "#What is the propability a loyalt customer to order Breakfast?\n",
    "first_class.Prob_ordering_Breakfast.mean()"
   ]
  },
  {
   "cell_type": "code",
   "execution_count": 77,
   "metadata": {},
   "outputs": [
    {
     "data": {
      "text/html": [
       "<div>\n",
       "<style scoped>\n",
       "    .dataframe tbody tr th:only-of-type {\n",
       "        vertical-align: middle;\n",
       "    }\n",
       "\n",
       "    .dataframe tbody tr th {\n",
       "        vertical-align: top;\n",
       "    }\n",
       "\n",
       "    .dataframe thead th {\n",
       "        text-align: right;\n",
       "    }\n",
       "</style>\n",
       "<table border=\"1\" class=\"dataframe\">\n",
       "  <thead>\n",
       "    <tr style=\"text-align: right;\">\n",
       "      <th></th>\n",
       "      <th>order_value</th>\n",
       "      <th>frequency</th>\n",
       "      <th>recency</th>\n",
       "      <th>Ov</th>\n",
       "      <th>F</th>\n",
       "      <th>R</th>\n",
       "      <th>score</th>\n",
       "      <th>Loyalty_Level</th>\n",
       "      <th>cluster</th>\n",
       "      <th>Breakfast</th>\n",
       "      <th>Italian</th>\n",
       "      <th>Meat</th>\n",
       "      <th>Street food</th>\n",
       "      <th>Prob_ordering_Breakfast</th>\n",
       "    </tr>\n",
       "    <tr>\n",
       "      <th>user_id</th>\n",
       "      <th></th>\n",
       "      <th></th>\n",
       "      <th></th>\n",
       "      <th></th>\n",
       "      <th></th>\n",
       "      <th></th>\n",
       "      <th></th>\n",
       "      <th></th>\n",
       "      <th></th>\n",
       "      <th></th>\n",
       "      <th></th>\n",
       "      <th></th>\n",
       "      <th></th>\n",
       "      <th></th>\n",
       "    </tr>\n",
       "  </thead>\n",
       "  <tbody>\n",
       "    <tr>\n",
       "      <th>72180854</th>\n",
       "      <td>122.90</td>\n",
       "      <td>28</td>\n",
       "      <td>0.0</td>\n",
       "      <td>1</td>\n",
       "      <td>1</td>\n",
       "      <td>1</td>\n",
       "      <td>3</td>\n",
       "      <td>Platinum</td>\n",
       "      <td>1</td>\n",
       "      <td>25</td>\n",
       "      <td>1</td>\n",
       "      <td>2</td>\n",
       "      <td>0</td>\n",
       "      <td>0.892857</td>\n",
       "    </tr>\n",
       "    <tr>\n",
       "      <th>83780076</th>\n",
       "      <td>94.55</td>\n",
       "      <td>26</td>\n",
       "      <td>-1.0</td>\n",
       "      <td>1</td>\n",
       "      <td>1</td>\n",
       "      <td>1</td>\n",
       "      <td>3</td>\n",
       "      <td>Platinum</td>\n",
       "      <td>1</td>\n",
       "      <td>24</td>\n",
       "      <td>1</td>\n",
       "      <td>1</td>\n",
       "      <td>0</td>\n",
       "      <td>0.923077</td>\n",
       "    </tr>\n",
       "    <tr>\n",
       "      <th>56439746</th>\n",
       "      <td>97.80</td>\n",
       "      <td>27</td>\n",
       "      <td>0.0</td>\n",
       "      <td>1</td>\n",
       "      <td>1</td>\n",
       "      <td>1</td>\n",
       "      <td>3</td>\n",
       "      <td>Platinum</td>\n",
       "      <td>1</td>\n",
       "      <td>23</td>\n",
       "      <td>0</td>\n",
       "      <td>3</td>\n",
       "      <td>0</td>\n",
       "      <td>0.851852</td>\n",
       "    </tr>\n",
       "    <tr>\n",
       "      <th>110883138</th>\n",
       "      <td>255.50</td>\n",
       "      <td>25</td>\n",
       "      <td>-3.0</td>\n",
       "      <td>1</td>\n",
       "      <td>1</td>\n",
       "      <td>2</td>\n",
       "      <td>4</td>\n",
       "      <td>Gold</td>\n",
       "      <td>1</td>\n",
       "      <td>23</td>\n",
       "      <td>0</td>\n",
       "      <td>2</td>\n",
       "      <td>0</td>\n",
       "      <td>0.920000</td>\n",
       "    </tr>\n",
       "    <tr>\n",
       "      <th>36239490</th>\n",
       "      <td>140.50</td>\n",
       "      <td>28</td>\n",
       "      <td>-2.0</td>\n",
       "      <td>1</td>\n",
       "      <td>1</td>\n",
       "      <td>2</td>\n",
       "      <td>4</td>\n",
       "      <td>Gold</td>\n",
       "      <td>1</td>\n",
       "      <td>23</td>\n",
       "      <td>1</td>\n",
       "      <td>4</td>\n",
       "      <td>0</td>\n",
       "      <td>0.821429</td>\n",
       "    </tr>\n",
       "    <tr>\n",
       "      <th>...</th>\n",
       "      <td>...</td>\n",
       "      <td>...</td>\n",
       "      <td>...</td>\n",
       "      <td>...</td>\n",
       "      <td>...</td>\n",
       "      <td>...</td>\n",
       "      <td>...</td>\n",
       "      <td>...</td>\n",
       "      <td>...</td>\n",
       "      <td>...</td>\n",
       "      <td>...</td>\n",
       "      <td>...</td>\n",
       "      <td>...</td>\n",
       "      <td>...</td>\n",
       "    </tr>\n",
       "    <tr>\n",
       "      <th>63269458</th>\n",
       "      <td>53.60</td>\n",
       "      <td>5</td>\n",
       "      <td>-7.0</td>\n",
       "      <td>1</td>\n",
       "      <td>1</td>\n",
       "      <td>3</td>\n",
       "      <td>5</td>\n",
       "      <td>Gold</td>\n",
       "      <td>1</td>\n",
       "      <td>0</td>\n",
       "      <td>2</td>\n",
       "      <td>2</td>\n",
       "      <td>0</td>\n",
       "      <td>0.000000</td>\n",
       "    </tr>\n",
       "    <tr>\n",
       "      <th>63266238</th>\n",
       "      <td>60.70</td>\n",
       "      <td>5</td>\n",
       "      <td>-7.0</td>\n",
       "      <td>1</td>\n",
       "      <td>1</td>\n",
       "      <td>3</td>\n",
       "      <td>5</td>\n",
       "      <td>Gold</td>\n",
       "      <td>1</td>\n",
       "      <td>0</td>\n",
       "      <td>2</td>\n",
       "      <td>2</td>\n",
       "      <td>1</td>\n",
       "      <td>0.000000</td>\n",
       "    </tr>\n",
       "    <tr>\n",
       "      <th>63263800</th>\n",
       "      <td>68.00</td>\n",
       "      <td>4</td>\n",
       "      <td>-2.0</td>\n",
       "      <td>1</td>\n",
       "      <td>1</td>\n",
       "      <td>2</td>\n",
       "      <td>4</td>\n",
       "      <td>Gold</td>\n",
       "      <td>1</td>\n",
       "      <td>0</td>\n",
       "      <td>1</td>\n",
       "      <td>3</td>\n",
       "      <td>0</td>\n",
       "      <td>0.000000</td>\n",
       "    </tr>\n",
       "    <tr>\n",
       "      <th>63223274</th>\n",
       "      <td>65.30</td>\n",
       "      <td>3</td>\n",
       "      <td>-13.0</td>\n",
       "      <td>1</td>\n",
       "      <td>2</td>\n",
       "      <td>4</td>\n",
       "      <td>7</td>\n",
       "      <td>Silver</td>\n",
       "      <td>1</td>\n",
       "      <td>0</td>\n",
       "      <td>0</td>\n",
       "      <td>3</td>\n",
       "      <td>0</td>\n",
       "      <td>0.000000</td>\n",
       "    </tr>\n",
       "    <tr>\n",
       "      <th>63251702</th>\n",
       "      <td>25.70</td>\n",
       "      <td>4</td>\n",
       "      <td>-7.0</td>\n",
       "      <td>2</td>\n",
       "      <td>1</td>\n",
       "      <td>3</td>\n",
       "      <td>6</td>\n",
       "      <td>Gold</td>\n",
       "      <td>1</td>\n",
       "      <td>0</td>\n",
       "      <td>1</td>\n",
       "      <td>3</td>\n",
       "      <td>0</td>\n",
       "      <td>0.000000</td>\n",
       "    </tr>\n",
       "  </tbody>\n",
       "</table>\n",
       "<p>38254 rows × 14 columns</p>\n",
       "</div>"
      ],
      "text/plain": [
       "           order_value  frequency  recency  Ov  F  R  score Loyalty_Level  \\\n",
       "user_id                                                                     \n",
       "72180854        122.90         28      0.0   1  1  1      3      Platinum   \n",
       "83780076         94.55         26     -1.0   1  1  1      3      Platinum   \n",
       "56439746         97.80         27      0.0   1  1  1      3      Platinum   \n",
       "110883138       255.50         25     -3.0   1  1  2      4          Gold   \n",
       "36239490        140.50         28     -2.0   1  1  2      4          Gold   \n",
       "...                ...        ...      ...  .. .. ..    ...           ...   \n",
       "63269458         53.60          5     -7.0   1  1  3      5          Gold   \n",
       "63266238         60.70          5     -7.0   1  1  3      5          Gold   \n",
       "63263800         68.00          4     -2.0   1  1  2      4          Gold   \n",
       "63223274         65.30          3    -13.0   1  2  4      7        Silver   \n",
       "63251702         25.70          4     -7.0   2  1  3      6          Gold   \n",
       "\n",
       "           cluster  Breakfast  Italian  Meat  Street food  \\\n",
       "user_id                                                     \n",
       "72180854         1         25        1     2            0   \n",
       "83780076         1         24        1     1            0   \n",
       "56439746         1         23        0     3            0   \n",
       "110883138        1         23        0     2            0   \n",
       "36239490         1         23        1     4            0   \n",
       "...            ...        ...      ...   ...          ...   \n",
       "63269458         1          0        2     2            0   \n",
       "63266238         1          0        2     2            1   \n",
       "63263800         1          0        1     3            0   \n",
       "63223274         1          0        0     3            0   \n",
       "63251702         1          0        1     3            0   \n",
       "\n",
       "           Prob_ordering_Breakfast  \n",
       "user_id                             \n",
       "72180854                  0.892857  \n",
       "83780076                  0.923077  \n",
       "56439746                  0.851852  \n",
       "110883138                 0.920000  \n",
       "36239490                  0.821429  \n",
       "...                            ...  \n",
       "63269458                  0.000000  \n",
       "63266238                  0.000000  \n",
       "63263800                  0.000000  \n",
       "63223274                  0.000000  \n",
       "63251702                  0.000000  \n",
       "\n",
       "[38254 rows x 14 columns]"
      ]
     },
     "execution_count": 77,
     "metadata": {},
     "output_type": "execute_result"
    }
   ],
   "source": [
    "first_class"
   ]
  },
  {
   "cell_type": "code",
   "execution_count": 78,
   "metadata": {},
   "outputs": [
    {
     "data": {
      "text/plain": [
       "Text(0.5, 1.0, 'Probability Density Function of all Loyal Customers')"
      ]
     },
     "execution_count": 78,
     "metadata": {},
     "output_type": "execute_result"
    },
    {
     "data": {
      "image/png": "[encoded data removed]",
      "text/plain": [
       "<Figure size 432x288 with 1 Axes>"
      ]
     },
     "metadata": {
      "needs_background": "light"
     },
     "output_type": "display_data"
    }
   ],
   "source": [
    "sns.histplot(data=first_class,x = \"Prob_ordering_Breakfast\")\n",
    "plt.show\n",
    "plt.title(\"Probability Density Function of all Loyal Customers\")"
   ]
  },
  {
   "cell_type": "code",
   "execution_count": 79,
   "metadata": {},
   "outputs": [],
   "source": [
    "first_classB = first_class.loc[first_class.Prob_ordering_Breakfast >0, :]"
   ]
  },
  {
   "cell_type": "code",
   "execution_count": 80,
   "metadata": {},
   "outputs": [
    {
     "data": {
      "text/plain": [
       "Text(0.5, 1.0, 'Probability Density Function of people that have create at least one order that includes Breakfast')"
      ]
     },
     "execution_count": 80,
     "metadata": {},
     "output_type": "execute_result"
    },
    {
     "data": {
      "image/png": "[encoded data removed]",
      "text/plain": [
       "<Figure size 432x288 with 1 Axes>"
      ]
     },
     "metadata": {
      "needs_background": "light"
     },
     "output_type": "display_data"
    }
   ],
   "source": [
    "#Create a Df that only includes loyal Customers that they have order at least one time Breakfast\n",
    "sns.histplot(data=first_classB,x = \"Prob_ordering_Breakfast\")\n",
    "plt.show\n",
    "plt.title(\"Probability Density Function of people that have create at least one order that includes Breakfast\")"
   ]
  },
  {
   "cell_type": "markdown",
   "metadata": {},
   "source": [
    "### Loyalty Level (quantile approach)"
   ]
  },
  {
   "cell_type": "code",
   "execution_count": 81,
   "metadata": {},
   "outputs": [],
   "source": [
    "Platinum_Gold = customer_per_cuisine.loc[customer_per_cuisine.Loyalty_Level == (\"Platinum\"or \"Gold\"), :]"
   ]
  },
  {
   "cell_type": "code",
   "execution_count": 82,
   "metadata": {},
   "outputs": [
    {
     "data": {
      "text/plain": [
       "0.44"
      ]
     },
     "execution_count": 82,
     "metadata": {},
     "output_type": "execute_result"
    }
   ],
   "source": [
    "(Platinum_Gold.Breakfast.sum()/Platinum_Gold.frequency.sum()).round(2)"
   ]
  },
  {
   "cell_type": "code",
   "execution_count": 83,
   "metadata": {},
   "outputs": [
    {
     "data": {
      "text/plain": [
       "0.24"
      ]
     },
     "execution_count": 83,
     "metadata": {},
     "output_type": "execute_result"
    }
   ],
   "source": [
    "##second category\n",
    "(Platinum_Gold.Meat.sum()/Platinum_Gold.frequency.sum()).round(2)"
   ]
  },
  {
   "cell_type": "markdown",
   "metadata": {},
   "source": [
    "Almost half of the orders that are be made from our most valuable customers are Breakfast,according to our quantile approach"
   ]
  },
  {
   "cell_type": "code",
   "execution_count": 84,
   "metadata": {},
   "outputs": [
    {
     "name": "stderr",
     "output_type": "stream",
     "text": [
      "<ipython-input-84-84ce1a0a507a>:1: SettingWithCopyWarning: \n",
      "A value is trying to be set on a copy of a slice from a DataFrame.\n",
      "Try using .loc[row_indexer,col_indexer] = value instead\n",
      "\n",
      "See the caveats in the documentation: https://pandas.pydata.org/pandas-docs/stable/user_guide/indexing.html#returning-a-view-versus-a-copy\n",
      "  Platinum_Gold[\"Prob_ordering_Breakfast\"] = Platinum_Gold.Breakfast/Platinum_Gold.frequency\n"
     ]
    }
   ],
   "source": [
    "Platinum_Gold[\"Prob_ordering_Breakfast\"] = Platinum_Gold.Breakfast/Platinum_Gold.frequency"
   ]
  },
  {
   "cell_type": "code",
   "execution_count": 85,
   "metadata": {},
   "outputs": [
    {
     "data": {
      "text/plain": [
       "0.3899546276518497"
      ]
     },
     "execution_count": 85,
     "metadata": {},
     "output_type": "execute_result"
    }
   ],
   "source": [
    "#What is the probability a loyalt customer to order Breakfast?\n",
    "Platinum_Gold.Prob_ordering_Breakfast.mean()"
   ]
  },
  {
   "cell_type": "code",
   "execution_count": 86,
   "metadata": {},
   "outputs": [
    {
     "data": {
      "text/plain": [
       "Text(0.5, 1.0, 'Probability Density Function of all Loyal Customers')"
      ]
     },
     "execution_count": 86,
     "metadata": {},
     "output_type": "execute_result"
    },
    {
     "data": {
      "image/png": "[encoded data removed]",
      "text/plain": [
       "<Figure size 432x288 with 1 Axes>"
      ]
     },
     "metadata": {
      "needs_background": "light"
     },
     "output_type": "display_data"
    }
   ],
   "source": [
    "sns.histplot(data=Platinum_Gold,x = \"Prob_ordering_Breakfast\")\n",
    "plt.show\n",
    "plt.title(\"Probability Density Function of all Loyal Customers\")"
   ]
  },
  {
   "cell_type": "code",
   "execution_count": 87,
   "metadata": {},
   "outputs": [],
   "source": [
    "Platinum_Gold_B = Platinum_Gold.loc[Platinum_Gold.Prob_ordering_Breakfast >0, :]"
   ]
  },
  {
   "cell_type": "code",
   "execution_count": 88,
   "metadata": {},
   "outputs": [
    {
     "data": {
      "text/plain": [
       "Text(0.5, 1.0, 'Probability Density Function of people that have create at least one order that includes Breakfast')"
      ]
     },
     "execution_count": 88,
     "metadata": {},
     "output_type": "execute_result"
    },
    {
     "data": {
      "image/png": "[encoded data removed]",
      "text/plain": [
       "<Figure size 432x288 with 1 Axes>"
      ]
     },
     "metadata": {
      "needs_background": "light"
     },
     "output_type": "display_data"
    }
   ],
   "source": [
    "#Create a Df that only includes loyal Customers that they have order at least one time Breakfast\n",
    "sns.histplot(data=Platinum_Gold_B,x = \"Prob_ordering_Breakfast\")\n",
    "plt.show\n",
    "plt.title(\"Probability Density Function of people that have create at least one order that includes Breakfast\")"
   ]
  }
 ],
 "metadata": {
  "kernelspec": {
   "display_name": "Python 3",
   "language": "python",
   "name": "python3"
  },
  "language_info": {
   "codemirror_mode": {
    "name": "ipython",
    "version": 3
   },
   "file_extension": ".py",
   "mimetype": "text/x-python",
   "name": "python",
   "nbconvert_exporter": "python",
   "pygments_lexer": "ipython3",
   "version": "3.9.0"
  },
  "toc": {
   "base_numbering": 1,
   "nav_menu": {},
   "number_sections": true,
   "sideBar": true,
   "skip_h1_title": false,
   "title_cell": "Table of Contents",
   "title_sidebar": "Contents",
   "toc_cell": false,
   "toc_position": {},
   "toc_section_display": true,
   "toc_window_display": false
  },
  "varInspector": {
   "cols": {
    "lenName": 16,
    "lenType": 16,
    "lenVar": 40
   },
   "kernels_config": {
    "python": {
     "delete_cmd_postfix": "",
     "delete_cmd_prefix": "del ",
     "library": "var_list.py",
     "varRefreshCmd": "print(var_dic_list())"
    },
    "r": {
     "delete_cmd_postfix": ") ",
     "delete_cmd_prefix": "rm(",
     "library": "var_list.r",
     "varRefreshCmd": "cat(var_dic_list()) "
    }
   },
   "types_to_exclude": [
    "module",
    "function",
    "builtin_function_or_method",
    "instance",
    "_Feature"
   ],
   "window_display": false
  }
 },
 "nbformat": 4,
 "nbformat_minor": 4
}
